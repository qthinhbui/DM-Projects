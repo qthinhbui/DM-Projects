{
  "cells": [
    {
      "metadata": {
        "collapsed": true,
        "trusted": false
      },
      "cell_type": "markdown",
      "source": "# Bài 1\n\nChương trình nhập 1 ký tự trong bảng chữ cái tiếng anh. Hỏi chữ đó có phải nguyên âm (o, e , u , i, a).\n\nKý tự x đó được nhập vào từ bàn phím. In ra màn hình kết quả là True hay False.\n"
    },
    {
      "metadata": {
        "trusted": true
      },
      "cell_type": "code",
      "source": "x = input()\nif x in (\"o\",\"e\",\"u\",\"i\",\"a\"):\n    print(True)\nelse:\n    print(False)",
      "execution_count": 5,
      "outputs": [
        {
          "output_type": "stream",
          "name": "stdout",
          "text": "y\nFalse\n"
        }
      ]
    },
    {
      "metadata": {},
      "cell_type": "markdown",
      "source": "# Bài 2\n\nViết chương trình kiểm tra số x có phải số lẻ hay không.\n\nSố x được nhập vào từ bàn phím. In ra màn hình kết quả là True hay False."
    },
    {
      "metadata": {
        "trusted": true
      },
      "cell_type": "code",
      "source": "x = input()\nx = int(x)\nprint(x%2==1)",
      "execution_count": 6,
      "outputs": [
        {
          "output_type": "stream",
          "name": "stdout",
          "text": "2\nTrue\n"
        }
      ]
    },
    {
      "metadata": {},
      "cell_type": "markdown",
      "source": "# Bài 3\n\nViết chương trình xuất ra màn hình trị tuyệt đối của 1 số nguyên x.\n\nGiá trị số nguyên x được nhập vào từ bàn phím."
    },
    {
      "metadata": {
        "trusted": true
      },
      "cell_type": "code",
      "source": "x = input()\nx = int(x)\nif x < 0:\n    print(-x)\nelse:\n    print(x)",
      "execution_count": 7,
      "outputs": [
        {
          "output_type": "stream",
          "name": "stdout",
          "text": "10\n10\n"
        }
      ]
    },
    {
      "metadata": {},
      "cell_type": "markdown",
      "source": "# Bài 4\n\nCho 2 số nguyên x và y. Viết chương trình so sánh bình phương của x và giá trị tuyệt đối của y, xuất ra giá trị lớn nhất (là giá trị x^2 hay là |y|) với x và y được nhập vào từ bàn phím.\n\n- Ví dụ 1: x = 5, y = 24, xuất ra: 25.\n\n- Ví dụ 2: x = 3, y = -12, xuất ra: 12."
    },
    {
      "metadata": {
        "trusted": true
      },
      "cell_type": "code",
      "source": "x = int(input())\ny = int(input())\n\ndef absthinh(x):\n    if x < 0:\n        return -x\n    else:\n        return x\n\nif x**2 > absthinh(y):\n    print(x**2)\nelse:\n    print(absthinh(y))",
      "execution_count": 10,
      "outputs": [
        {
          "output_type": "stream",
          "name": "stdout",
          "text": "7\n-63\n63\n"
        }
      ]
    },
    {
      "metadata": {},
      "cell_type": "markdown",
      "source": "# Bài 5\n\nViết chương trình xuất ra chuỗi có chiều dài lớn hơn trong 2 chuỗi a và b.\n\n2 chuỗi ban đầu a và b được nhập vào từ bàn phím.\n\nNếu chiều dài 2 chuỗi bằng nhau thì nối chuỗi b vào cuối chuỗi a và xuất ra màn hình\n\nVí dụ:\n\na = \"xinchao\"\n\nb = \"python\"\n\nThì tên cần xuất ra là \"xinchao\"."
    },
    {
      "metadata": {
        "trusted": true
      },
      "cell_type": "code",
      "source": "a = input()\nb = input()\nif len(a) > len(b):\n    print(a)\nelif len(a) < len(b):\n    print(b)\nelse:\n    print(a + b)",
      "execution_count": 12,
      "outputs": [
        {
          "output_type": "stream",
          "name": "stdout",
          "text": "thinh\nbuiqj\nthinhbuiqj\n"
        }
      ]
    },
    {
      "metadata": {
        "trusted": true
      },
      "cell_type": "code",
      "source": "",
      "execution_count": null,
      "outputs": []
    }
  ],
  "metadata": {
    "kernelspec": {
      "name": "python36",
      "display_name": "Python 3.6",
      "language": "python"
    },
    "language_info": {
      "mimetype": "text/x-python",
      "nbconvert_exporter": "python",
      "name": "python",
      "pygments_lexer": "ipython3",
      "version": "3.6.6",
      "file_extension": ".py",
      "codemirror_mode": {
        "version": 3,
        "name": "ipython"
      }
    }
  },
  "nbformat": 4,
  "nbformat_minor": 2
}