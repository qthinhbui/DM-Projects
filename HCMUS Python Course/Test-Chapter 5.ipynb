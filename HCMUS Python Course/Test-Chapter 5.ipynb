{
 "cells": [
  {
   "cell_type": "markdown",
   "metadata": {
    "collapsed": true
   },
   "source": [
    "# Bài 1\n",
    "\n",
    "Viết chương trình xuất ra màn hình số lượng số nguyên tố trong đoạn từ a đến b.\n",
    "\n",
    "a, b là 2 số tự nhiên (a < b) được nhập vào từ bàn phím như code mẫu.\n",
    "\n",
    "Nhắc lại:\n",
    "\n",
    "Số nguyên tố là số tự nhiên chỉ có hai ước số dương phân biệt là 1 và chính nó. Do số 1 chỉ có một ước số dương là chính nó, nên số 1 không phải là số nguyên tố.\n",
    "\n",
    "Ví dụ:\n",
    "- a = 3\n",
    "\n",
    "- b = 19\n",
    "\n",
    "- Trong đoạn từ 3 đến 19 có 7 số nguyên tố là: 3 5 7 11 13 17 19\n",
    "\n",
    "- Kết quả cần xuất ra: 7"
   ]
  },
  {
   "cell_type": "code",
   "execution_count": 34,
   "metadata": {},
   "outputs": [
    {
     "name": "stdout",
     "output_type": "stream",
     "text": [
      "3\n",
      "19\n",
      "7\n"
     ]
    }
   ],
   "source": [
    "a = int(input())\n",
    "b = int(input())\n",
    "\n",
    "def kiemtraNguyenTo(x):\n",
    "    if x<=1:\n",
    "        return False\n",
    "    for i in range(2,int(math.sqrt(x))+1):\n",
    "        if x%i==0:\n",
    "            return False\n",
    "    return True\n",
    "\n",
    "count = 0\n",
    "\n",
    "for i in range(a,b+1):\n",
    "    if kiemtraNguyenTo(i):\n",
    "        count += 1\n",
    "print(count)"
   ]
  },
  {
   "cell_type": "markdown",
   "metadata": {},
   "source": [
    "# Bài 2\n",
    "\n",
    "Cho 2 số nguyên a và b.\n",
    "\n",
    "Viết chương trình tính bội chung nhỏ nhất của a và b. Xuất kết quả ra màn hình với a và b được nhập vào từ bàn phím."
   ]
  },
  {
   "cell_type": "code",
   "execution_count": 2,
   "metadata": {},
   "outputs": [
    {
     "name": "stdout",
     "output_type": "stream",
     "text": [
      "4\n",
      "6\n",
      "12\n"
     ]
    }
   ],
   "source": [
    "a = int(input())\n",
    "b = int(input())\n",
    "\n",
    "def ucln(a,b):\n",
    "    if a < b:\n",
    "        return ucln(b,a)\n",
    "    while b != 0:\n",
    "        r = a % b\n",
    "        a = b\n",
    "        b = r\n",
    "    return a\n",
    "\n",
    "def bcnn(a,b):\n",
    "    return (a * b)/ucln(a,b)\n",
    "\n",
    "print(int(bcnn(a,b)))"
   ]
  },
  {
   "cell_type": "markdown",
   "metadata": {},
   "source": [
    "# Bài 3\n",
    "\n",
    "Số hoàn thiện (hay còn gọi là số hoàn chỉnh, số hoàn hảo hoặc số hoàn thành) là một số nguyên dương mà tổng các ước nguyên dương của nó bằng chính nó.\n",
    "\n",
    "Cho a là một số nguyên dương nhập vào từ bàn phím.\n",
    "\n",
    "Viết chương trình kiểm tra a có phải là số hoàn thiện hay không.\n",
    "\n",
    "Xuất ra màn hình: True nếu a là số hoàn thiện, ngược lại xuất ra False.\n",
    "\n",
    "Ví dụ:\n",
    "\n",
    "- a = 28. Ta thấy: 28 có 4 ước số dương là 1, 2, 4, 7, 14. Ngoài ra, 28 = 1 + 2 + 4 + 7 + 14. Vậy a là số hoàn thiện. Kết quả cần xuất ra màn hình: True\n",
    "\n",
    "- a = 13. Ta thấy: 13 có 1 ước số dương là 1. Vậy a không phải số hoàn thiện. Kết quả cần xuất ra màn hình: False"
   ]
  },
  {
   "cell_type": "code",
   "execution_count": 20,
   "metadata": {},
   "outputs": [
    {
     "name": "stdout",
     "output_type": "stream",
     "text": [
      "13\n",
      "False\n"
     ]
    }
   ],
   "source": [
    "a = int(input())\n",
    "\n",
    "def shc(a):\n",
    "    tong = 0\n",
    "    for i in range(1,a):\n",
    "        if a % i == 0:\n",
    "            tong += i\n",
    "    if tong == a:\n",
    "        return True\n",
    "    else:\n",
    "        return False\n",
    "\n",
    "print(shc(a))"
   ]
  },
  {
   "cell_type": "markdown",
   "metadata": {},
   "source": [
    "# Bài 4\n",
    "\n",
    "Viết chương trình xuất ra màn hình Tổ hợp không lặp chập k của n phần tử với n và k là 2 số tự nhiên (n > k) được nhập vào từ bàn phím như code mẫu.\n",
    "\n",
    "Trong Toán học, tổ hợp là cách chọn những phần tử từ một nhóm lớn hơn mà không phân biệt thứ tự. Trong những trường hợp nhỏ hơn có thể đếm được số tổ hợp. Ví dụ cho ba loại quả, một quả táo, một quả cam và một quả lê, có ba cách kết hợp hai loại quả từ tập hợp này: một quả táo và một quả lê; một quả táo và một quả cam; một quả lê và một quả cam. (nguồn: vi.wikipedia.org/wiki/Tổ_hợp_(toán_học) )\n",
    "\n",
    "Tổ hợp không lặp chập k của n phần tử được tính theo công thức: C_n^k = n!/((n-k)!.k!)\n",
    "\n",
    "\"n giai thừa\", ký hiệu n! là tích của n số tự nhiên dương đầu tiên: n! = 1.2.3....n\n",
    "\n",
    "Ví dụ: n = 10, k = 6. Ta có 10! = 1.2.3.4.5.6.7.8.9.10, (10-6)! = 4! = 1.2.3.4, 6! = 1.2.3.4.5.6. Tổ hợp không lặp chập 6 của 10 phần tử là: 10! / (4! . 6!) = 210. Kết quả cần xuất ra: 210"
   ]
  },
  {
   "cell_type": "code",
   "execution_count": 23,
   "metadata": {},
   "outputs": [
    {
     "name": "stdout",
     "output_type": "stream",
     "text": [
      "22\n",
      "18\n",
      "7315\n"
     ]
    }
   ],
   "source": [
    "n = int(input())\n",
    "k = int(input())\n",
    "\n",
    "def giaithua(a):\n",
    "    count = 1\n",
    "    for i in range(1,a+1):\n",
    "        count *= i\n",
    "    return count\n",
    "\n",
    "def tohop(n,k):\n",
    "    return int(giaithua(n)/(giaithua(n-k)*giaithua(k)))\n",
    "\n",
    "print(tohop(n,k))"
   ]
  },
  {
   "cell_type": "markdown",
   "metadata": {},
   "source": [
    "# Bài 5\n",
    "\n",
    "Hoài Linh Tinh và Chí Tài Tình dự định tiếp tục xây dựng một ngôi trường cho trẻ em nghèo. Thời gian tựu trường đang tới gần nên họ đang phải tìm cách thi công công trình một cách nhanh nhất.\n",
    "\n",
    "Công việc yêu cầu các nhân công phải làm việc theo cặp. Do các công nhân có tốc độ làm việc không giống nhau nên khi ghép cặp hai công nhân có tốc độ làm việc lần lượt là a và b (a < b) (đơn vị tốc độ làm việc), cặp đôi đó sẽ làm việc theo tốc độ là a (làm việc theo tốc độ của công nhân có tốc độ chậm hơn).\n",
    "\n",
    "Bạn được 2 danh hài nhờ giải quyết bài toán ghép cặp công nhân sao cho đạt được tốc độ làm việc tối ưu nhất. 2 danh hài sẽ cung cấp cho bạn danh sách tốc độ làm việc của các công nhân trong công trường, tốc độ làm việc của các công nhân được lưu dưới dạng số nguyên dương, biết rằng số lượng công nhân trong công trường là số chẵn.\n",
    "\n",
    "Chương trình dưới đây đã nhập giúp bạn dữ liệu vào 1 mảng số nguyên chứa tốc độ làm việc của các công nhân và biến n chứa số lượng cặp công nhân trong công trường.\n",
    "\n",
    "Hãy viết chương trình xuất ra màn hình tổng tốc độ làm việc tối đa có thể đạt được của các cặp công nhân trong công trường.\n",
    "\n",
    "Ví dụ:\n",
    "\n",
    "n = 2\n",
    "\n",
    "speed = [13, 50, 14, 1]\n",
    "\n",
    "- Giả sử ta thử ghép các cặp công nhân: 13 với 50,  14 với 1. Cặp 13 và 50 sẽ có tốc độ làm việc là 13; cặp 14 và 1 sẽ có tốc độ làm việc là 1. Vậy tổng tốc độ làm việc của các cặp là: 13 + 1 = 14.\n",
    "\n",
    "- Bây giờ ta ghép theo 1 cách tối ưu nhất: 13 với 1, 50 với 14. Cặp 13 và 1 sẽ có tốc độ làm việc là 1, cặp 50 và 14 sẽ có tốc độ làm việc là 14. Vậy tổng tốc độ làm việc của các cặp là: 1 + 14 = 15.\n",
    "\n",
    "- Ta thấy cách ghép thứ 2 cho kết quả tốt nhất. Vậy kết quả cần xuất ra màn hình: 15 "
   ]
  },
  {
   "cell_type": "code",
   "execution_count": 33,
   "metadata": {},
   "outputs": [
    {
     "name": "stdout",
     "output_type": "stream",
     "text": [
      "3\n",
      "81\n",
      "64\n",
      "42\n",
      "79\n",
      "82\n",
      "89\n",
      "[81, 64, 42, 79, 82, 89]\n",
      "[42, 64, 79, 81, 82, 89]\n",
      "203\n"
     ]
    }
   ],
   "source": [
    "n = int(input()) * 2\n",
    "speed = []\n",
    "for i in range(0,n):\n",
    "    speed.append(int(input()))\n",
    "#type your code below\n",
    "\n",
    "def sapxeptang(x):\n",
    "    for i in range(len(x)):\n",
    "        for j in range(i+1,len(x)):\n",
    "            if x[j] < x [i]:\n",
    "                tam = x[j]\n",
    "                x[j] = x[i]\n",
    "                x[i] = tam\n",
    "    return x\n",
    "\n",
    "speed = sapxeptang(speed)\n",
    "tong = 0\n",
    "for i in range(len(speed)):\n",
    "    if i % 2 == 0:\n",
    "        tong += speed[i]\n",
    "\n",
    "print(tong)"
   ]
  }
 ],
 "metadata": {
  "kernelspec": {
   "display_name": "Python 3",
   "language": "python",
   "name": "python3"
  },
  "language_info": {
   "codemirror_mode": {
    "name": "ipython",
    "version": 3
   },
   "file_extension": ".py",
   "mimetype": "text/x-python",
   "name": "python",
   "nbconvert_exporter": "python",
   "pygments_lexer": "ipython3",
   "version": "3.7.3"
  }
 },
 "nbformat": 4,
 "nbformat_minor": 2
}
