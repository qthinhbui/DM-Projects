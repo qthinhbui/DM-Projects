{
 "cells": [
  {
   "attachments": {},
   "cell_type": "markdown",
   "metadata": {},
   "source": [
    "# Bài 1\n",
    "\n",
    "Viết chương trình xuất ra màn hình số lớn nhất trong 4 số a, b, c, d.\n",
    "\n",
    "Giá trị a, b, c, d là các số nguyên được nhập vào từ bàn phím. In ra màn hình giá trị số lớn nhất"
   ]
  },
  {
   "cell_type": "code",
   "execution_count": 18,
   "metadata": {},
   "outputs": [
    {
     "name": "stdout",
     "output_type": "stream",
     "text": [
      "1\n",
      "2\n",
      "3\n",
      "4\n",
      "4\n"
     ]
    }
   ],
   "source": [
    "a = int(input())\n",
    "b = int(input())\n",
    "c = int(input())\n",
    "d = int(input())\n",
    "\n",
    "print(max(a,b,c,d))"
   ]
  },
  {
   "attachments": {},
   "cell_type": "markdown",
   "metadata": {},
   "source": [
    "# Bài 2\n",
    "\n",
    "Viết chương trình xuất ra màn hình tổng của các số tự nhiên trong đoạn từ a đến b.\n",
    "\n",
    "Cho a, b là 2 số tự nhiên (a < b) được nhập vào từ bàn phím như code mẫu.\n",
    "\n",
    "Ví dụ:\n",
    "\n",
    "- a = 2\n",
    "- b = 5\n",
    "- Tổng các số tự nhiên trong đoạn 2 đến 5 là: 2 + 3 + 4 + 5 = 14\n",
    "- Kết quả cần xuất ra: 14"
   ]
  },
  {
   "cell_type": "code",
   "execution_count": 19,
   "metadata": {},
   "outputs": [
    {
     "name": "stdout",
     "output_type": "stream",
     "text": [
      "2\n",
      "5\n",
      "14\n"
     ]
    }
   ],
   "source": [
    "a = int(input())\n",
    "b = int(input())\n",
    "\n",
    "tong = 0\n",
    "for i in range(a,b+1):\n",
    "    tong += i\n",
    "    \n",
    "print(tong)"
   ]
  },
  {
   "attachments": {},
   "cell_type": "markdown",
   "metadata": {},
   "source": [
    "# Bài 3\n",
    "\n",
    "Cho 2 số nguyên a và b (a và b không đồng thời bằng 0).\n",
    "\n",
    "Viết chương trình tính ước chung lớn nhất của a và b. Xuất kết quả ra màn hình với a và b được nhập vào từ bàn phím."
   ]
  },
  {
   "cell_type": "code",
   "execution_count": 20,
   "metadata": {},
   "outputs": [
    {
     "name": "stdout",
     "output_type": "stream",
     "text": [
      "2\n",
      "12\n",
      "2\n"
     ]
    }
   ],
   "source": [
    "a = int(input())\n",
    "b = int(input())\n",
    "\n",
    "def ucln(a,b):\n",
    "    if a < b:\n",
    "        return ucln(b,a)\n",
    "    while b != 0:\n",
    "        r = a % b\n",
    "        a = b\n",
    "        b = r\n",
    "    return a\n",
    "\n",
    "print(ucln(a,b))"
   ]
  },
  {
   "attachments": {},
   "cell_type": "markdown",
   "metadata": {},
   "source": [
    "# Bài 4\n",
    "\n",
    "Dãy Fibonacci là dãy vô hạn các số tự nhiên bắt đầu bằng hai phần tử 1 và 1, các phần tử sau đó được thiết lập theo quy tắc mỗi phần tử luôn bằng tổng hai phần tử trước nó. Công thức truy hồi của dãy Fibonacci là:\n",
    "\n",
    "- F(n) = 1 khi n = 1 hoặc n = 2\n",
    "\n",
    "- F(n) = F(n-1) + F(n-2) khi n > 2\n",
    "\n",
    "Cho n là một số nguyên dương nhập vào từ bàn phím (n > 0).\n",
    "\n",
    "Viết chương trình tính số Fibonacci thứ n.\n",
    "\n",
    "Quy ước: F(1) = 1, F(2) = 1. Xuất ra màn hình: Giá trị của F(n).\n",
    "\n",
    "Ví dụ:\n",
    "\n",
    "- n = 3. F(3) = F(2) + F(1) = 1 + 1 = 2. Kết quả cần xuất ra màn hình: 2\n",
    "\n",
    "- n = 4. F(4) = F(3) + F(2) = 2 + 1 = 3. Kết quả cần xuất ra màn hình: 3"
   ]
  },
  {
   "cell_type": "code",
   "execution_count": 21,
   "metadata": {},
   "outputs": [
    {
     "name": "stdout",
     "output_type": "stream",
     "text": [
      "3\n",
      "2\n"
     ]
    }
   ],
   "source": [
    "n = int(input())\n",
    "import math\n",
    "\n",
    "print( int((((1+math.sqrt(5))/2)**n-((1-math.sqrt(5))/2)**n)/math.sqrt(5)))"
   ]
  },
  {
   "cell_type": "code",
   "execution_count": 10,
   "metadata": {},
   "outputs": [
    {
     "name": "stdout",
     "output_type": "stream",
     "text": [
      "1\n",
      "2\n",
      "3\n",
      "4\n",
      "4\n"
     ]
    }
   ],
   "source": [
    "a = int(input())\n",
    "b = int(input())\n",
    "c = int(input())\n",
    "d = int(input())\n",
    "\n",
    "print(max(a,b,c,d))"
   ]
  },
  {
   "attachments": {},
   "cell_type": "markdown",
   "metadata": {},
   "source": [
    "# Bài 5\n",
    "\n",
    "Cho 1 số tự nhiên n (n > 2). Viết chương trình xuất ra màn hình số nguyên tố lớn nhất sao cho số nguyên tố đó nhỏ hơn n với n được nhập vào từ bàn phím như code mẫu.\n",
    "\n",
    "Nhắc lại: Số nguyên tố là số tự nhiên chỉ có hai ước số dương phân biệt là 1 và chính nó. Do số 1 chỉ có một ước số dương là chính nó, nên số 1 không phải là số nguyên tố.\n",
    "\n",
    "Ví dụ:\n",
    "\n",
    "- n = 5. Số nguyên tố lớn nhất mà nhỏ hơn 5 là: 3. Kết quả cần xuất ra: 3\n",
    "\n",
    "- n = 25. Số nguyên tố lớn nhất mà nhỏ hơn 25 là: 23. Kết quả cần xuất ra: 23"
   ]
  },
  {
   "cell_type": "code",
   "execution_count": 22,
   "metadata": {},
   "outputs": [
    {
     "name": "stdout",
     "output_type": "stream",
     "text": [
      "3\n",
      "2\n"
     ]
    }
   ],
   "source": [
    "n = int(input())\n",
    "\n",
    "while(n != 0):\n",
    "    n-=1\n",
    "    prime = True\n",
    "    for i in range(2,n):\n",
    "        if n % i == 0:\n",
    "            prime = False\n",
    "            break\n",
    "    if(prime):\n",
    "        break\n",
    "\n",
    "print(n)"
   ]
  },
  {
   "attachments": {},
   "cell_type": "markdown",
   "metadata": {},
   "source": [
    "# Bài 6\n",
    "\n",
    "Cho a là 1 mảng số nguyên. a có số lượng phần tử là n.\n",
    "\n",
    "Giả sử ta quy ước: Mảng số nguyên a được gọi là có thứ tự, nếu ta có: a[i-1] < a[i] với mọi 0 < i < n. Hoặc a[i-1] > a[i] với mọi 0 < i < n.\n",
    "\n",
    "Mảng a được nhập vào từ bàn phím như code mẫu.\n",
    "\n",
    "Hãy viết chương trình kiểm tra mảng số nguyên a có phải là mảng có thứ tự hay không? Chương trình xuất ra True nếu a là mảng có thứ tự, ngược lại xuất ra False.\n",
    "\n",
    "Ví dụ:\n",
    "\n",
    "- a = [77,25,16,-5]. n = 4. Vì a là mảng giảm dần nên mảng có thứ tự. Kết quả cần xuất ra màn hình: True\n",
    "\n",
    "- a = [-1,6,11,17,13,21,99]. n = 7. Do a không phải là mảng tăng dần cũng không phải là mảng giảm dần nên mảng a không có thứ tự. Kết quả cần xuất ra màn hình: False"
   ]
  },
  {
   "cell_type": "code",
   "execution_count": 26,
   "metadata": {},
   "outputs": [
    {
     "name": "stdout",
     "output_type": "stream",
     "text": [
      "4\n",
      "77\n",
      "25\n",
      "16\n",
      "-5\n",
      "True\n"
     ]
    }
   ],
   "source": [
    "n = int(input())\n",
    "a = []\n",
    "for i in range(n):\n",
    "    a.append(int(input()))\n",
    "\n",
    "check1 = True\n",
    "check2 = True\n",
    "\n",
    "for i in range(n-1):\n",
    "    if(a[i] <= a[i+1]):\n",
    "        check1 = False\n",
    "\n",
    "for i in range(n-1):\n",
    "    if(a[i] >= a[i+1]):\n",
    "        check2 = False\n",
    "\n",
    "print(check1 or check2)"
   ]
  },
  {
   "attachments": {},
   "cell_type": "markdown",
   "metadata": {},
   "source": [
    "# Bài 7\n",
    "\n",
    "Hai danh hài Hoài Linh Tinh và Chí Tài Tình đang tổ chức những lớp học toán cho trẻ em nghèo. Để tăng hiệu quả trong việc dạy học, họ thuê bạn làm một máy tính đơn giản cho học sinh lớp 3 có thể kiểm tra kết quả những biểu thức trong bài tập.\n",
    "\n",
    "Dữ liệu đầu vào là một chuỗi biểu thức bao gồm các số hạng là số có 1 chữ số (< 10), và 2 phép phép tính là cộng (+) và nhân (*).\n",
    "\n",
    "Chuỗi biểu diễn biểu thức được nhập vào từ bàn phím. Chương trình xuất ra kết quả của biểu thức đó.\n",
    "\n",
    "Chuỗi a chỉ bao gồm các số và 2 phép tính là (+) và (*), không chứa bất kỳ ký tự nào khác!\n",
    "\n",
    "Ví dụ:\n",
    "\n",
    "- a = \"1+2*3+4\". Kết quả cần xuất ra màn hình: 11\n",
    "\n",
    "- a = \"3*5+5+7*6*2\". Kết quả cần xuất ra màn hình: 104"
   ]
  },
  {
   "cell_type": "code",
   "execution_count": 23,
   "metadata": {},
   "outputs": [
    {
     "name": "stdout",
     "output_type": "stream",
     "text": [
      "1+2*3+4\n",
      "11\n"
     ]
    }
   ],
   "source": [
    "s = input()\n",
    "lst = s.split('+')\n",
    "\n",
    "tong = 0\n",
    "for i in lst:\n",
    "    tmp = 0\n",
    "    lst2 = i.split('*')\n",
    "    tmp = int(lst2[0])\n",
    "    for j in range(1, len(lst2)):\n",
    "        tmp *= int(lst2[j])\n",
    "    tong += tmp\n",
    "\n",
    "print(tong)"
   ]
  }
 ],
 "metadata": {
  "kernelspec": {
   "display_name": "Python 3",
   "language": "python",
   "name": "python3"
  },
  "language_info": {
   "codemirror_mode": {
    "name": "ipython",
    "version": 3
   },
   "file_extension": ".py",
   "mimetype": "text/x-python",
   "name": "python",
   "nbconvert_exporter": "python",
   "pygments_lexer": "ipython3",
   "version": "3.7.3"
  }
 },
 "nbformat": 4,
 "nbformat_minor": 2
}
