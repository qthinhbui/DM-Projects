{
 "cells": [
  {
   "cell_type": "markdown",
   "metadata": {
    "collapsed": true
   },
   "source": [
    "# Bài 1\n",
    "\n",
    "Cho s là 1 chuỗi bất kỳ được nhập vào từ bàn phím như code mẫu.\n",
    "\n",
    "Viết chương trình xuất ra màn hình số ký tự là chữ số của chuỗi s.\n",
    "\n",
    "Ví dụ:\n",
    "- Cho s = \"hom qua la ngay 30 thang4 !\"\n",
    "\n",
    "- s gồm có 3 ký tự là chữ số: 3, 0, 4\n",
    "\n",
    "- Kết quả cần xuất ra màn hình: 3"
   ]
  },
  {
   "cell_type": "code",
   "execution_count": null,
   "metadata": {},
   "outputs": [],
   "source": [
    "s = input()\n",
    "\n",
    "count = 0\n",
    "for i in s:\n",
    "    if i.isnumeric():\n",
    "        count += 1\n",
    "print(count)"
   ]
  },
  {
   "cell_type": "markdown",
   "metadata": {},
   "source": [
    "# Bài 2\n",
    "\n",
    "Viết chương trình xuất ra màn hình tổng của các số tự nhiên trong đoạn từ a đến b.\n",
    "\n",
    "a, b là 2 số tự nhiên (a < b) được nhập vào từ bàn phím như code mẫu.\n",
    "\n",
    "Ví dụ\n",
    "- a = 2\n",
    "\n",
    "- b = 5\n",
    "\n",
    "- Tổng các số tự nhiên trong đoạn 2 đến 5 là: 2 + 3 + 4 + 5 = 14\n",
    "\n",
    "- Kết quả cần xuất ra: 14"
   ]
  },
  {
   "cell_type": "code",
   "execution_count": null,
   "metadata": {},
   "outputs": [],
   "source": [
    "a = int(input())\n",
    "b = int(input())\n",
    "\n",
    "count = 0\n",
    "for i in range(a,b+1):\n",
    "    count += i\n",
    "print(count)"
   ]
  },
  {
   "attachments": {
    "Test-Chapter%204-0.png": {
     "image/png": "[encoded data removed]"
    },
    "Test-Chapter%204-1.png": {
     "image/png": "[encoded data removed]"
    },
    "Test-Chapter%204-2.png": {
     "image/png": "[encoded data removed]"
    }
   },
   "cell_type": "markdown",
   "metadata": {},
   "source": [
    "# Bài 3\n",
    "\n",
    "Nhằm bảo đảm an toàn thông tin, người ta luôn tìm cách mã hóa dữ liệu trước khi trao đổi hoặc lưu trữ.\n",
    "\n",
    "Trong mật mã học, mật mã Caesar, còn gọi là mật mã dịch chuyển, là một trong những mật mã đơn giản và được biết đến nhiều nhất. Mật mã này là một dạng của mật mã thay thế, trong đó mỗi ký tự trong văn bản được thay thế bằng một ký tự cách nó một đoạn trong bảng chữ cái để tạo thành bản mã. Ví dụ, nếu độ dịch là 3, A sẽ được thay bằng D, C sẽ được thay bằng F và cứ thế đến hết. Phương pháp được đặt tên theo Caesar, vị hoàng đế đã sử dụng nó thường xuyên trong công việc.\n",
    "\n",
    "Hình dưới đây là vòng tròn mã hóa, thực ra chính là bảng chữ cái tiếng anh được xếp thành vòng tròn. Ở bài này ta chỉ xét một phương pháp mã hóa đơn giản là thay mỗi ký tự trong chuỗi ký tự bằng ký tự kế tiếp của nó trong vòng tròn mã hóa theo chiều kim đồng hồ (đây là mật mã Caesar với độ dịch là 1).\n",
    "\n",
    "![Test-Chapter%204-0.png](attachment:Test-Chapter%204-0.png)\n",
    "\n",
    "Cho s là 1 chuỗi chỉ gồm toàn ký tự chữ cái (in thường hoặc in hoa) được nhập vào từ bàn phím như code mẫu.\n",
    "\n",
    "Viết chương trình xuất ra màn hình chuỗi mã hóa từ chuỗi s ban đầu.\n",
    "\n",
    "Gọi chuỗi mã hóa là: e\n",
    "\n",
    "Mỗi ký tự trong chuỗi e là ký tự tiếp theo trong vòng tròn mã hóa của ký tự ở vị trí tương ứng trong chuỗi s.\n",
    "\n",
    "Ví dụ:\n",
    "- Cho s = \"Hello\"\n",
    "\n",
    "- Ký tự tiếp theo của 'H' trong vòng tròn mã hóa là 'I'\n",
    "\n",
    "- Ký tự tiếp theo của 'e' trong vòng tròn mã hóa là 'f'   \n",
    "\n",
    "- Ký tự tiếp theo của 'l' trong vòng tròn mã hóa là 'm'  \n",
    "\n",
    "- Ký tự tiếp theo của 'o' trong vòng tròn mã hóa là 'p'  \n",
    "\n",
    "- Vậy ta thu được chuỗi mã hóa: e = 'Ifmmp'\n",
    "\n",
    "- Kết quả cần xuất ra màn hình: Ifmmp\n",
    "\n",
    "--Có thể bạn sẽ cần --\n",
    "\n",
    "Hàm ord() sẽ giúp chuyển ký tự sang mã ASCII. Ví dụ: ord('a') = 97, ord('b') = 98, ord('c') = 99\n",
    "\n",
    "Hàm chr() sẽ giúp chuyển mã ASCII sang ký tự. Ví dụ: chr(97) = 'a', chr(98) = 'b', chr(99) = 'c'\n",
    "\n",
    "Nếu bạn chưa biết mã ASCII là gì, thì trong phạm vi bài này, ta có thể hiểu đơn giản là mã ASCII gán mỗi ký tự sẽ tương ứng với 1 con số. Ví dụ các ký tự từ 'a' đến 'z' sẽ tương ứng với các con số từ 97 đến 112. Cho bảng ASCII:\n",
    "\n",
    "![Test-Chapter%204-1.png](attachment:Test-Chapter%204-1.png)\n",
    "\n",
    "![Test-Chapter%204-2.png](attachment:Test-Chapter%204-2.png)"
   ]
  },
  {
   "cell_type": "code",
   "execution_count": null,
   "metadata": {},
   "outputs": [],
   "source": [
    "s = input()\n",
    "\n",
    "t = \"\"\n",
    "for i in s:\n",
    "    if ((ord(i) > 64) and (ord(i) < 90)) or ((ord(i) > 96) and (ord(i) < 122)):\n",
    "        j = chr(ord(i) + 1)\n",
    "        t += j\n",
    "    if ord(i) == 90:\n",
    "        j = chr(65)\n",
    "        t += j\n",
    "    if ord(i) == 122:\n",
    "        j = chr(97)\n",
    "        t += j\n",
    "print(t)"
   ]
  },
  {
   "cell_type": "markdown",
   "metadata": {},
   "source": [
    "# Bài 4\n",
    "\n",
    "Hai danh hài Hoài Linh Tinh và Chí Tài Tình bắt tay nhau mở một khu du lịch miệt vườn ở miền quê Đồng Tháp. Khu du lịch có một dịch vụ tham quan bằng thuyền, do nhân viên ở khu du lịch chèo thuyền chở hành khách đi tham quan cảnh đẹp. Mỗi chuyến thuyền bắt đầu từ bến A và kết thúc ở bến B, thời gian mỗi chuyến thuyền là 20 phút.\n",
    "\n",
    "Thời gian xuất bến của các chuyến thuyền đều được nhân viên ghi nhận lại. Hãy viết chương trình giúp hai danh hài kiểm tra xem trong 1 ngày, số chiếc thuyền di chuyển trên sông tại 1 thời điểm nhiều nhất là bao nhiêu (tại thời điểm có nhiều thuyền nhất trên sông, đếm số chiếc thuyền tại thời điểm đó) và xuất kết quả đó ra màn hình. Nhân viên khu du lịch sẽ cung cấp cho bạn một danh sách thời điểm xuất phát của các chuyến thuyền trong ngày. Danh sách đó được sắp xếp tăng dần theo thời điểm xuất phát của các thuyền.\n",
    "\n",
    "Thời gian một chiếc thuyến được tính là đang được sử dụng bắt đầu từ thời điểm nó xuất phát đến thời điểm nó cập bến. Ví dụ: thuyền xuất phát từ A lúc 11:00, vậy thời điểm thuyền đang được sử dụng là từ 11:00 đến 11:20.\n",
    "\n",
    "Chương trình dưới đây đã nhập giúp bạn dữ liệu vào 2 mảng.\n",
    "\n",
    "Mảng hour chứa danh sách lưu lại giờ xuất phát của các chuyến thuyền.\n",
    "\n",
    "Mảng minute chứa danh sách lưu lại phút xuất phát của các chuyến thuyền.\n",
    "\n",
    "Và biến n lưu số chuyến thuyền được ghi nhận.\n",
    "\n",
    "Ví dụ:\n",
    "- n = 3\n",
    "\n",
    "- hour = [13, 13, 14]\n",
    "\n",
    "- minute = [0, 15, 45]\n",
    "\n",
    "- Nghĩa là ngày hôm đó, nhân viên ghi nhận được tất cả 3 chuyến thuyền. Trong đó 1 chuyến đã xuất phát vào lúc 13:00 sau đó một chiếc thuyền xuất phát vào lúc 13:15 và chuyến thứ 3 xuất phát lúc 14:45. Suy ra trong khoảng thời gian từ 13:15 đến 13:20, có 2 chiếc thuyền đang đi đồng thời trên sông (thuyền 1 và thuyền 2). Vậy kết quả cần xuất ra là: 2\n",
    "- Biết: 0 < n,   0 <= hour[i] <= 24,   0 <= minute[i] <= 59"
   ]
  },
  {
   "cell_type": "code",
   "execution_count": null,
   "metadata": {},
   "outputs": [],
   "source": [
    "n = int(input())\n",
    "hour = []\n",
    "minute = []\n",
    "for i in range(0,n):\n",
    "    hour.append(int(input()))\n",
    "    minute.append(int(input()))\n",
    "\n",
    "time = []\n",
    "for i in range(n):\n",
    "    time.append(hour[i] * 60 + minute[i])\n",
    "temp = []\n",
    "for i in range(n):\n",
    "    count = 0\n",
    "    for j in range(i,n):\n",
    "        check = time[j] - time[i]\n",
    "        if check <= 20:\n",
    "            count += 1\n",
    "    temp.append(count)\n",
    "print(max(temp))"
   ]
  }
 ],
 "metadata": {
  "kernelspec": {
   "display_name": "Python 3",
   "language": "python",
   "name": "python3"
  },
  "language_info": {
   "codemirror_mode": {
    "name": "ipython",
    "version": 3
   },
   "file_extension": ".py",
   "mimetype": "text/x-python",
   "name": "python",
   "nbconvert_exporter": "python",
   "pygments_lexer": "ipython3",
   "version": "3.7.3"
  }
 },
 "nbformat": 4,
 "nbformat_minor": 2
}
