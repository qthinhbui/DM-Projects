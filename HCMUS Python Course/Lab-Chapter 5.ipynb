{
 "cells": [
  {
   "cell_type": "markdown",
   "metadata": {
    "collapsed": true
   },
   "source": [
    "# Bài 1\n",
    "\n",
    "Giả sử ta có 3 biến a, b , c để lưu chiều dài 3 cạnh của một tam giác.\n",
    "\n",
    "3 biến a, b, c lưu giá trị 3 số nguyên được nhập vào từ bàn phím như code mẫu.\n",
    "\n",
    "Viết chương trình kiểm tra tam giác có 3 cạnh a, b, c đó có phải là tam giác vuông hay không.\n",
    "\n",
    "In ra màn hình kết quả là True hay False.\n",
    "\n",
    "Lưu ý: Dữ liệu nhận vào cho a,b,c là số nguyên (không chắc chắn dương)."
   ]
  },
  {
   "cell_type": "code",
   "execution_count": 1,
   "metadata": {},
   "outputs": [
    {
     "name": "stdout",
     "output_type": "stream",
     "text": [
      "8\n",
      "12\n",
      "13\n",
      "False\n"
     ]
    }
   ],
   "source": [
    "a = int(input())\n",
    "b = int(input())\n",
    "c = int(input())\n",
    "\n",
    "def gttd(x):\n",
    "    if x < 0:\n",
    "        return -x\n",
    "    else:\n",
    "        return x\n",
    "\n",
    "x = [a,b,c]\n",
    "x1 = min(gttd(a),gttd(b),gttd(c))\n",
    "x2 = 0\n",
    "x3 = max(gttd(a),gttd(b),gttd(c))\n",
    "\n",
    "for i in x:\n",
    "   if (i != x1) and (i != x3):\n",
    "       x2 = x2 + i\n",
    "\n",
    "if x3**2 == x1**2 + x2**2:\n",
    "    print(True)\n",
    "else:\n",
    "    print(False)"
   ]
  },
  {
   "cell_type": "markdown",
   "metadata": {},
   "source": [
    "# Bài 2\n",
    "\n",
    "Viết chương trình xuất ra màn hình số lượng số nguyên tố trong đoạn từ a đến b.\n",
    "\n",
    "a, b là 2 số tự nhiên (a < b) được nhập vào từ bàn phím như code mẫu.\n",
    "\n",
    "Nhắc lại: Số nguyên tố là số tự nhiên chỉ có hai ước số dương phân biệt là 1 và chính nó. Do số 1 chỉ có một ước số dương là chính nó, nên số 1 không phải là số nguyên tố."
   ]
  },
  {
   "cell_type": "code",
   "execution_count": 66,
   "metadata": {},
   "outputs": [
    {
     "name": "stdout",
     "output_type": "stream",
     "text": [
      "7\n"
     ]
    }
   ],
   "source": [
    "a = int(input())\n",
    "b = int(input())\n",
    "import math\n",
    "\n",
    "def snt(x):\n",
    "    if (x<=1):\n",
    "        return False\n",
    "    if x == 2:\n",
    "        return True\n",
    "    else:\n",
    "        for i in range(2,int(math.sqrt(x))+1):\n",
    "            if x % i == 0:\n",
    "                return False\n",
    "        return True\n",
    "\n",
    "count = 0\n",
    "for i in range(a,b+1):\n",
    "    if snt(i) == True:\n",
    "        count += 1\n",
    "print(count)"
   ]
  },
  {
   "cell_type": "markdown",
   "metadata": {},
   "source": [
    "# Bài 3\n",
    "\n",
    "Cho 2 số nguyên a và b.\n",
    "\n",
    "Viết chương trình tính ước chung lớn nhất của a và b. Xuất kết quả ra màn hình.\n",
    "\n",
    "a và b được nhập vào từ bàn phím như code mẫu.\n",
    "\n",
    "Nhắc lại: Nếu số nguyên a chia hết cho số nguyên b thì số b được gọi là ước của số nguyên a, a được gọi là bội của b. Số nguyên dương c lớn nhất là ước của cả hai số nguyên a, b được gọi là ước số chung lớn nhất (ƯCLN) của a và b."
   ]
  },
  {
   "cell_type": "code",
   "execution_count": 13,
   "metadata": {},
   "outputs": [
    {
     "name": "stdout",
     "output_type": "stream",
     "text": [
      "12\n",
      "8\n",
      "4\n"
     ]
    }
   ],
   "source": [
    "a = int(input())\n",
    "b = int(input())\n",
    "\n",
    "def UCLN(a,b):\n",
    "    if a > b:\n",
    "        return UCLN(b,a)\n",
    "    while a != 0:\n",
    "        r = b % a\n",
    "        b = a\n",
    "        a = r\n",
    "    return b\n",
    "\n",
    "print(UCLN(a,b))\n",
    "   "
   ]
  },
  {
   "cell_type": "markdown",
   "metadata": {},
   "source": [
    "# Bài 4\n",
    "\n",
    "Số hoàn thiện (hay còn gọi là số hoàn chỉnh, số hoàn hảo hoặc số hoàn thành) là một số nguyên dương mà tổng các ước nguyên dương của nó (số nguyên dương chia hết cho nó) bằng chính nó.\n",
    "\n",
    "Cho a là một số nguyên dương nhập vào từ bàn phím.\n",
    "\n",
    "Viết chương trình kiểm tra a có phải là số hoàn thiện hay không.\n",
    "\n",
    "Xuất ra màn hình: True nếu a là số hoàn thiện, ngược lại xuất ra False.\n",
    "\n",
    "Ví dụ:\n",
    "\n",
    "- a = 28. Ta thấy: 28 có 4 ước số dương là 1, 2, 4, 7, 14 và 28 = 1 + 2 + 4 + 7 + 14. Vậy a là số hoàn thiện. Kết quả cần xuất ra màn hình: True\n",
    "\n",
    "- a = 13. Ta thấy: 13 có 1 ước số dương là 1 và 13 != 1. Do vậy a không phải số hoàn thiện. Kết quả cần xuất ra màn hình: False"
   ]
  },
  {
   "cell_type": "code",
   "execution_count": 16,
   "metadata": {},
   "outputs": [
    {
     "name": "stdout",
     "output_type": "stream",
     "text": [
      "13\n",
      "False\n"
     ]
    }
   ],
   "source": [
    "a = int(input())\n",
    "\n",
    "def SHT(a):\n",
    "    count = 0\n",
    "    for i in range(1,a):\n",
    "        if a % i == 0:\n",
    "            count += i\n",
    "    return count == a\n",
    "\n",
    "print(SHT(a))"
   ]
  },
  {
   "cell_type": "markdown",
   "metadata": {},
   "source": [
    "# Bài 5\n",
    "\n",
    "Viết chương trình xuất ra màn hình Tổ hợp không lặp chập k của n phần tử với n và k là 2 số tự nhiên (n > k) được nhập vào từ bàn phím như code mẫu.\n",
    "\n",
    "Trong Toán học, tổ hợp là cách chọn những phần tử từ một nhóm lớn hơn mà không phân biệt thứ tự. Trong những trường hợp nhỏ hơn có thể đếm được số tổ hợp. Ví dụ cho ba loại quả, một quả táo, một quả cam và một quả lê, có ba cách kết hợp hai loại quả từ tập hợp này: một quả táo và một quả lê; một quả táo và một quả cam; một quả lê và một quả cam. (nguồn: vi.wikipedia.org/wiki/Tổ_hợp_(toán_học) )\n",
    "\n",
    "Tổ hợp không lặp chập k của n phần tử được tính theo công thức: n!/((n-k)!.k!)\n",
    "\n",
    "\"n giai thừa\", ký hiệu n! là tích của n số tự nhiên dương đầu tiên: n! = 1.2.3....n\n",
    "\n",
    "Ví dụ: n = 10, k = 6. Ta có 10! = 1.2.3.4.5.6.7.8.9.10, (10-6)! = 4! = 1.2.3.4, 6! = 1.2.3.4.5.6. Tổ hợp không lặp chập 6 của 10 phần tử là: 10! / (4! . 6!) = 210. Kết quả cần xuất ra: 210"
   ]
  },
  {
   "cell_type": "code",
   "execution_count": 20,
   "metadata": {},
   "outputs": [
    {
     "name": "stdout",
     "output_type": "stream",
     "text": [
      "10\n",
      "6\n",
      "210\n"
     ]
    }
   ],
   "source": [
    "n = int(input())\n",
    "k = int(input())\n",
    "\n",
    "def giaithua(a):\n",
    "    count = 1\n",
    "    for i in range(1,a+1):\n",
    "        count *= i\n",
    "    return count\n",
    "\n",
    "def tohop(n,k):\n",
    "    return int(giaithua(n)/(giaithua(n-k)*giaithua(k)))\n",
    "\n",
    "print(tohop(n,k))"
   ]
  },
  {
   "cell_type": "code",
   "execution_count": null,
   "metadata": {},
   "outputs": [],
   "source": []
  }
 ],
 "metadata": {
  "kernelspec": {
   "display_name": "Python 3",
   "language": "python",
   "name": "python3"
  },
  "language_info": {
   "codemirror_mode": {
    "name": "ipython",
    "version": 3
   },
   "file_extension": ".py",
   "mimetype": "text/x-python",
   "name": "python",
   "nbconvert_exporter": "python",
   "pygments_lexer": "ipython3",
   "version": "3.7.3"
  }
 },
 "nbformat": 4,
 "nbformat_minor": 2
}
