{
 "cells": [
  {
   "cell_type": "markdown",
   "metadata": {
    "collapsed": true
   },
   "source": [
    "# Bài 1\n",
    "\n",
    "Một hành tinh hình cầu có bán kính là R. R là 1 số tự nhiên dương được nhập vào từ bàn phím như code mẫu.\n",
    "\n",
    "Cho Hàm surface(R) là hàm nhận vào bán kính của hành tinh và trả về diện tích bề mặt của hành tinh đó. Viết tiếp vào hàm surface(R) trong chương trình sau để hàm trả về kết quả mong muốn."
   ]
  },
  {
   "cell_type": "code",
   "execution_count": 2,
   "metadata": {},
   "outputs": [
    {
     "name": "stdout",
     "output_type": "stream",
     "text": [
      "5\n",
      "314.1592653589793\n"
     ]
    }
   ],
   "source": [
    "import math\n",
    "def surface(R):\n",
    "    pi = math.pi\n",
    "    #type your code below  \n",
    "    return 4*pi*R**2\n",
    "    #end your code\n",
    "     \n",
    "# do not change the code below!\n",
    "R = int(input())\n",
    "print(surface(R))"
   ]
  },
  {
   "cell_type": "markdown",
   "metadata": {},
   "source": [
    "# Bài 2\n",
    "\n",
    "Cho a, b, k là 3 số tự nhiên (a và b không đồng thời bằng 0, k là 1 số dương).\n",
    "\n",
    "Chương trình bên dưới sẽ làm nhiệm vụ in ra màn hình số lượng ước chung dương của hai số a và b. Để làm được điều đó, chương trình cần một hàm để kiểm tra xem 1 số k có phải là ước chung của 2 số a và b hay không, đó là hàm isCD(a,b,k).\n",
    "\n",
    "Hàm isCD(a, b, k) bên dưới nhận vào 3 tham số là a, b và k, hàm sẽ trả về True nếu k là ước số chung của a và b. Ngược lại trả về False.\n",
    "\n",
    "Hãy viết tiếp vào hàm isCD(a, b, k) bên dưới để nó trả về kết quả thích hợp.\n",
    "\n",
    "Lưu ý: chỉ viết thêm vào hàm đã chỉ định, không chỉnh sửa phần code khác.\n",
    "\n",
    "Nhắc lại định nghĩa: Số tự nhiên n chia hết cho số tự nhiên m thì ta nói n là bội của m, còn m là ước của n. Nếu số k vừa là ước của số a và vừa là ước của số b thì ta nói k là ước số chung của a và b.\n",
    "\n",
    "Ví dụ:\n",
    "\n",
    "a = 12, b = 30, k = 3\n",
    "\n",
    "Ta nhận thấy\n",
    "\n",
    "- 30 chia hết cho 3\n",
    "\n",
    "- 12 chia hết cho 3\n",
    "\n",
    "Vậy hàm isCD(12,30,3) sẽ trả về kết quả là: True"
   ]
  },
  {
   "cell_type": "code",
   "execution_count": 8,
   "metadata": {},
   "outputs": [
    {
     "name": "stdout",
     "output_type": "stream",
     "text": [
      "30\n",
      "126\n",
      "4\n"
     ]
    }
   ],
   "source": [
    "def isCD(a,b,k):\n",
    "    #type your code below\n",
    "    return (a % k == 0) and (b % k == 0)\n",
    "    #end your code\n",
    "        \n",
    "#do not change codes below\n",
    "a = input()\n",
    "b = input()\n",
    "a = int(a)\n",
    "b = int(b)\n",
    "c = min(a,b)\n",
    "if (a == 0):\n",
    "    c = b\n",
    "elif (b == 0):\n",
    "    c = a\n",
    "        \n",
    "#this code will count the number of common divisors based on your function\n",
    "# if you do not understand this code, do not be confused, we will discuss about \"loop\" later\n",
    "count = 0\n",
    "for i in range(1,c+1):\n",
    "    if (isCD(a,b,i)):\n",
    "        count = count + 1\n",
    "print(count)"
   ]
  },
  {
   "cell_type": "markdown",
   "metadata": {},
   "source": [
    "# Bài 3\n",
    "\n",
    "Cho n là 1 biến chứa dữ liệu là số nguyên.\n",
    "\n",
    "Hãy viết tiếp vào hàm countDigits(n) bên dưới, hàm countDigits(n) có chức năng nhận vào 1 tham số là số nguyên và trả về số chữ số của số đó.\n",
    "\n",
    "Lưu ý: Chỉ viết tiếp vào trong hàm chỉ định, không thay đổi đoạn code bên ngoài hàm.\n",
    "\n",
    "Ví dụ:\n",
    "\n",
    "n = 2018 \n",
    "\n",
    "n gồm có 4 chữ số là 2, 0, 1, 8\n",
    "\n",
    "Kết quả khi gọi hàm countDigits(2018) sẽ là: 4"
   ]
  },
  {
   "cell_type": "code",
   "execution_count": 2,
   "metadata": {},
   "outputs": [
    {
     "name": "stdout",
     "output_type": "stream",
     "text": [
      "2018\n",
      "4\n"
     ]
    }
   ],
   "source": [
    "def countDigits(n):\n",
    "    if (n < 0):\n",
    "        n = -n\n",
    "    st = str(n)\n",
    "    #type your code below\n",
    "    return len(st)\n",
    "    #end your code\n",
    "        \n",
    "#do not change codes below\n",
    "n = input()\n",
    "n = int(n)\n",
    "print(countDigits(n))"
   ]
  },
  {
   "cell_type": "markdown",
   "metadata": {},
   "source": [
    "# Bài 4\n",
    "\n",
    "Cho 2 tam giác vuông:\n",
    "\n",
    "- Tam giác vuông thứ nhất có 2 cạnh góc vuông là a và b;\n",
    "\n",
    "- Tam giác vuông thứ hai có 2 cạnh góc vuông là c và d.\n",
    "\n",
    "Hỏi tam giác vuông nào có cạnh huyền lớn hơn?\n",
    "\n",
    "Hãy viết tiếp vào hàm compareTriag(a,b,c,d) bên dưới để thực hiện phép so sánh này.\n",
    "\n",
    "Với a, b, c, d là các số thực dương, hàm compareTriag(a,b,c,d) phải trả về số 1 nếu tam giác vuông thứ nhất có cạnh huyền lớn hơn, ngược lại trả về số 2.\n",
    "\n",
    "Ví dụ:\n",
    "\n",
    "a = 3, b = 4, c = 1, d = 5\n",
    "\n",
    "Kết quả trả về khi gọi hàm compareTriag(3,4,1,5) là 2."
   ]
  },
  {
   "cell_type": "code",
   "execution_count": 5,
   "metadata": {},
   "outputs": [
    {
     "name": "stdout",
     "output_type": "stream",
     "text": [
      "3\n",
      "4\n",
      "5\n",
      "1\n",
      "2\n"
     ]
    }
   ],
   "source": [
    "def compareTriag(a,b,c,d):\n",
    "    #type your code below\n",
    "    alpha = a**2 + b**2\n",
    "    beta = c**2 + d**2\n",
    "    if alpha > beta:\n",
    "        return 1\n",
    "    else:\n",
    "        return 2\n",
    "    #end your code\n",
    "  \n",
    "#do not change code below        \n",
    "a = float(input())\n",
    "b = float(input())\n",
    "c = float(input())\n",
    "d = float(input())\n",
    "print(compareTriag(a,b,c,d))"
   ]
  },
  {
   "cell_type": "code",
   "execution_count": null,
   "metadata": {},
   "outputs": [],
   "source": []
  }
 ],
 "metadata": {
  "kernelspec": {
   "display_name": "Python 3",
   "language": "python",
   "name": "python3"
  },
  "language_info": {
   "codemirror_mode": {
    "name": "ipython",
    "version": 3
   },
   "file_extension": ".py",
   "mimetype": "text/x-python",
   "name": "python",
   "nbconvert_exporter": "python",
   "pygments_lexer": "ipython3",
   "version": "3.7.3"
  }
 },
 "nbformat": 4,
 "nbformat_minor": 2
}
