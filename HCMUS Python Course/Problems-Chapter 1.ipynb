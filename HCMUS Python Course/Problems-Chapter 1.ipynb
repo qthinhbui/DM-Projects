{
 "cells": [
  {
   "cell_type": "markdown",
   "metadata": {
    "collapsed": true
   },
   "source": [
    "# Bài 1\n",
    "\n",
    "Viết chương trình ghi chép lại nội dung nhập vào từ bàn phím và xuất ra ngoài màn hình để ghi nhớ.\n",
    "\n",
    "[Dữ liệu nhập vào]\n",
    "\n",
    "-\tMột chuỗi ký tự bất kỳ\n",
    "\n",
    "[Dữ liệu xuất ra]\n",
    "\n",
    "-\tMột chuỗi ký tự có nội dung tương ứng với dữ liệu nhập vào\n",
    "\n",
    "Ví dụ:\n",
    "\n",
    "-\tNhập vào: Hello World!\n",
    "\n",
    "-\tXuất ra: Hello World!\n",
    "\n",
    "-\tGiải thích: Chương trình xuất ra chuỗi Hello World! giống với nội dung được nhập vào."
   ]
  },
  {
   "cell_type": "code",
   "execution_count": null,
   "metadata": {},
   "outputs": [],
   "source": [
    "cau_nhap_vao = input()\n",
    "print(cau_nhap_vao)"
   ]
  },
  {
   "cell_type": "markdown",
   "metadata": {},
   "source": [
    "# Bài 2\n",
    "\n",
    "Biết trước một xe hơi đang chạy trên đường với vận tốc 60km/h. Viết chương trình hiển thị xem xe sẽ đi đoạn đường bao xa với khoảng thời gian được nhập vào (đơn vị giờ).\n",
    "\n",
    "Biết công thức tính quãng đường di chuyển như sau:\n",
    "\n",
    "quãng đường = thời gian x vận tốc\n",
    "\n",
    "[Dữ liệu nhập vào]\n",
    "\n",
    "-\tMột số tự nhiên là thời gian mà xe đã chạy (đơn vị là giờ)\n",
    "\n",
    "[Dữ liệu xuất ra]\n",
    "\n",
    "-\tMột số tự nhiên là quãng đường tương ứng mà xe đã đi được nếu vận tốc xe là 60km/h\n",
    "\n",
    "Ví dụ:\n",
    "\n",
    "-\tNhập vào: 5\n",
    "\n",
    "-\tXuất ra: 300\n",
    "\n",
    "-\tGiải thích: Xe hơi chạy với vận tốc 60km/h và đã đi được 5 giờ nên theo công thức tính trên, quãng đường tương ứng đã chạy của xe là 5 x 60 = 300km. Chương trình xuất ra màn hình giá trị 300."
   ]
  },
  {
   "cell_type": "code",
   "execution_count": null,
   "metadata": {},
   "outputs": [],
   "source": [
    "thoi_gian = int(input())\n",
    "van_toc = 60\n",
    "print(van_toc*thoi_gian)"
   ]
  },
  {
   "cell_type": "markdown",
   "metadata": {},
   "source": [
    "# Bài 3\n",
    "\n",
    "Viết chương trình cho phép nhập vào bốn số tự nhiên. Chương trình sẽ kiểm tra xem số tự nhiên cuối có trùng với ba số tự nhiên đầu không.\n",
    "\n",
    "[Dữ liệu nhập vào]\n",
    "\n",
    "-\tBốn dòng, mỗi dòng gồm 1 số tự nhiên.\n",
    "\n",
    "[Dữ liệu xuất ra]\n",
    "\n",
    "-\tKết quả kiểm tra xem số tự nhiên cuối có trùng với số nào trong ba số tự nhiên đầu không. Nếu có trùng, xuất ra chuỗi True. Ngược lại, xuất ra chuỗi False.\n",
    "\n",
    "Ví dụ (Dấu cách trong dữ liệu nhập xuất tương ứng với dấu xuống dòng):\n",
    "\n",
    "-\tNhập vào: 5 4 3 5\n",
    "\n",
    "-\tXuất ra: True\n",
    "\n",
    "-\tGiải thích: Ta nhập vào bốn số 5, 4, 3, 5. Số cuối là số 5 có tồn tại trong ba số đầu [5, 4, 3] nên kết quả kiểm tra là đúng. Chương trình xuất ra chuỗi True."
   ]
  },
  {
   "cell_type": "code",
   "execution_count": null,
   "metadata": {},
   "outputs": [],
   "source": [
    "dsach_can_kiem_tra = [0, 0, 0]\n",
    "dsach_can_kiem_tra[0] = int(input())\n",
    "dsach_can_kiem_tra[1] = int(input())\n",
    "dsach_can_kiem_tra[2] = int(input())\n",
    "so_can_kiem_tra = int(input())\n",
    "print(so_can_kiem_tra in dsach_can_kiem_tra)"
   ]
  },
  {
   "cell_type": "markdown",
   "metadata": {},
   "source": [
    "# Bài 4\n",
    "\n",
    "Viết chương trình yêu cầu người dùng nhập vào nhiệt độ nguyên có độ đo là độ C, thực hiện chuyển đổi nhiệt độ từ đơn vị độ C sang độ F.\n",
    "\n",
    "Biết công thức chuyển đổi như sau:\n",
    "\n",
    "°F = °C x 9/5 + 32\n",
    "\n",
    "[Dữ liệu nhập vào]\n",
    "\n",
    "-\tMột số nguyên là nhiệt độ cần chuyển đổi (đơn vị là độ C)\n",
    "\n",
    "[Dữ liệu xuất ra]\n",
    "\n",
    "-\tMột số thực là nhiệt độ tương ứng với nhiệt độ cần chuyển đổi với đơn vị là độ F\n",
    "\n",
    "Ví dụ:\n",
    "\n",
    "-\tNhập vào: 10\n",
    "\n",
    "-\tXuất ra: 50.0\n",
    "\n",
    "-\tGiải thích: Nhiệt độ C cần chuyển đổi được nhập vào là 10 độ. Theo công thức trên nhiệt độ F tương ứng là 10 x 9 /5 + 32 = 18.0 + 32 = 50.0. Chương trình xuất ra màn hình giá trị 50.0."
   ]
  },
  {
   "cell_type": "code",
   "execution_count": null,
   "metadata": {},
   "outputs": [],
   "source": [
    "do_C = int(input())\n",
    "print(do_C*9/5+32)"
   ]
  },
  {
   "cell_type": "markdown",
   "metadata": {},
   "source": [
    "# Bài 5\n",
    "\n",
    "Viết chương trình giúp An chia bánh cho mọi người trong lớp. An sẽ nhập vào chương trình này số bánh mà An có và số người trong lớp. Hãy cho An biết mỗi người sẽ được bao nhiêu viên bánh và cuối cùng An còn thừa bao nhiêu viên bánh. Biết rằng mỗi người trong lớp nhận số viên bánh bằng nhau.\n",
    "\n",
    "[Dữ liệu nhập vào]\n",
    "\n",
    "-\tDòng đầu tiên là một số tự nhiên là số lượng bánh mà An có.\n",
    "\n",
    "-\tDòng thứ hai là một số tự nhiên là số lượng người mà An định chia bánh.\n",
    "\n",
    "[Dữ liệu xuất ra]\n",
    "\n",
    "-\tDòng đầu tiên là số bánh mà mỗi người được nhận.\n",
    "\n",
    "-\tDòng tiếp theo là số bánh mà An còn lại.\n",
    "\n",
    "Ví dụ (Dấu cách trong dữ liệu nhập xuất tương ứng với dấu xuống dòng):\n",
    "\n",
    "-\tNhập vào: 11 5\n",
    "\n",
    "-\tXuất ra:\n",
    "    \n",
    "    2\n",
    "\n",
    "    1\n",
    "\n",
    "-\tGiải thích: An cần chia 11 viên kẹo cho 5 người. Vậy mỗi người sẽ nhận 2 viên kẹo và An còn thừa lại 1 viên kẹo. Chương trình xuất ra màn hình hai giá trị 2 và 1 trên 2 dòng."
   ]
  },
  {
   "cell_type": "code",
   "execution_count": null,
   "metadata": {},
   "outputs": [],
   "source": [
    "so_banh = int(input())\n",
    "so_nguoi = int(input())\n",
    "print(so_banh//so_nguoi)\n",
    "print(so_banh%so_nguoi)"
   ]
  },
  {
   "cell_type": "markdown",
   "metadata": {},
   "source": [
    "# Bài 6\n",
    "\n",
    "Một bao gồm hai thành phần là chủ ngữ và vị ngữ.\n",
    "\n",
    "Ta có hai biến:\n",
    "\n",
    "Biến chu_ngu sẽ nhận giá trị chủ ngữ và biến vi_ngu sẽ nhận giá trị vị ngữ. Các biến này có giá trị được nhập vào từ bàn phím.\n",
    "\n",
    "Hãy viết chương trình xuất 1 bằng cách nối vị ngữ vào sau chủ ngữ.\n",
    "\n",
    "[Dữ liệu nhập vào]\n",
    "\n",
    "-\tDòng đầu tiên là chuỗi chủ ngữ và dòng tiếp theo là chuỗi vị ngữ.\n",
    "\n",
    "[Dữ liệu xuất ra]\n",
    "\n",
    "-\tMột chuỗi ký tự là được tạo thành bằng cách nối chủ ngữ và vị ngữ của nhau.\n",
    "\n",
    "Ví dụ:\n",
    "\n",
    "-\tNhập vào:\n",
    "\n",
    "    An\n",
    "\n",
    "    di da bong\n",
    "\n",
    "-\tXuất ra: An di da bong\n",
    "\n",
    "-\tGiải thích: Chủ ngữ được nhập vào là “An”. Vị ngữ được nhập vào là “di da bong”. được tạo thành là “An di da bong”. Chương trình xuất ra màn hình chuỗi “An di da bong”."
   ]
  },
  {
   "cell_type": "code",
   "execution_count": null,
   "metadata": {},
   "outputs": [],
   "source": [
    "chu_ngu = input()\n",
    "vi_ngu = input()\n",
    "print(chu_ngu + \" \" + vi_ngu)"
   ]
  },
  {
   "cell_type": "markdown",
   "metadata": {},
   "source": [
    "# Bài 7\n",
    "\n",
    "Cho số nguyên age biểu diễn tuổi của 1 người, chuỗi name biểu diễn tên của người đó.\n",
    "\n",
    "Viết chương trình xuất ra chuỗi \"name: age\".\n",
    "\n",
    "(Lưu ý: có một dấu cách giữa ký tự : và age)\n",
    "\n",
    "Số nguyên age và chuỗi tên name được nhập vào từ bàn phím.\n",
    "\n",
    "[Dữ liệu nhập vào]\n",
    "\n",
    "-\tDòng đầu tiên là một chuỗi là tên của người cần biểu diễn.\n",
    "\n",
    "-\tDòng tiếp theo là một số tự nhiên là số tuổi của người đó.\n",
    "\n",
    "[Dữ liệu xuất ra]\n",
    "\n",
    "-\tChuỗi chứa tên và tuổi của một người được định dạng theo chuẩn trên.\n",
    "\n",
    "Ví dụ (Dấu cách trong dữ liệu nhập xuất tương ứng với dấu xuống dòng):\n",
    "\n",
    "-\tNhập vào: Huy 18\n",
    "\n",
    "-\tXuất ra: Huy: 18\n",
    "\n",
    "-\tGiải thích: Chương trình nhận vào tên của người cần biểu diễn là Huy và tuổi của người đó là 18. Chuỗi đã được định dạng theo mẫu “name: age” tương ứng là “Huy: 18”. Chương trình xuất ra chuỗi “Huy: 18”."
   ]
  },
  {
   "cell_type": "code",
   "execution_count": null,
   "metadata": {},
   "outputs": [],
   "source": [
    "name = input()\n",
    "age = int(input())\n",
    "print(name + \": \" + str(age))"
   ]
  },
  {
   "cell_type": "markdown",
   "metadata": {},
   "source": [
    "# Bài 8\n",
    "\n",
    "Viết chương trình tính chiều dài chuỗi s.\n",
    "\n",
    "Chuỗi s được nhập vào từ bàn phím. In ra màn hình chiều dài của chuỗi.\n",
    "\n",
    "[Dữ liệu nhập vào]\n",
    "\n",
    "-\tMột chuỗi ký tự bất kỳ\n",
    "\n",
    "[Dữ liệu xuất ra]\n",
    "\n",
    "-\tMột số tự nhiên là độ dài của chuỗi nói trên\n",
    "\n",
    "Ví dụ:\n",
    "\n",
    "-\tNhập vào: Lop hoc Python\n",
    "\n",
    "-\tXuất ra: 14\n",
    "\n",
    "-\tGiải thích: Chương trình nhận vào chuỗi “Lop hoc Python”. Độ dài của chuỗi này, bao gồm các dấu cách, là 14 ký tự. Chương trình xuất ra màn hình giá trị 14."
   ]
  },
  {
   "cell_type": "code",
   "execution_count": null,
   "metadata": {},
   "outputs": [],
   "source": [
    "s = input()\n",
    "print(len(s))"
   ]
  },
  {
   "cell_type": "markdown",
   "metadata": {},
   "source": [
    "# Bài 9\n",
    "\n",
    "Viết chương trình nhập vào 1 chuỗi s, xuất ra màn hình True nếu toàn bộ ký tự trong s là ký tự số, ngược lại xuất ra False.\n",
    "\n",
    "Giá trị chuỗi s được nhập vào từ bàn phím.\n",
    "\n",
    "[Dữ liệu nhập vào]\n",
    "\n",
    "-\tMột chuỗi ký tự bất kỳ\n",
    "\n",
    "[Dữ liệu xuất ra]\n",
    "\n",
    "-\tMột chuỗi chứa kết quả kiểm tra của chương trình. Chuỗi True nếu chuỗi trên chỉ chứa toàn ký tự số. Chuỗi False nếu chuỗi trên có ký tự không phải ký tự số.\n",
    "\n",
    "Ví dụ:\n",
    "\n",
    "-\tNhập vào: 959451\n",
    "\n",
    "-\tXuất ra: True\n",
    "\n",
    "-\tGiải thích: Chương trình nhận vào chuỗi “959451”. Chuỗi này chỉ chứa toàn ký tự số “9”, “5”, “9”, “4”, “5”, “1” nên kết quả kiểm tra là đúng. Chương trình xuất ra màn hình chuỗi True."
   ]
  },
  {
   "cell_type": "code",
   "execution_count": null,
   "metadata": {},
   "outputs": [],
   "source": [
    "s = input()\n",
    "print(s.isnumeric())"
   ]
  },
  {
   "cell_type": "markdown",
   "metadata": {},
   "source": [
    "# Bài 10\n",
    "\n",
    "Ban đầu trong rừng có một cặp thỏ, biết rằng cứ sau 1 tháng thì số lượng thỏ trong rừng tăng lên gấp đôi. Hỏi sau m tháng thì có bao nhiêu con thỏ? Giả sử các con thỏ không chết.\n",
    "\n",
    "Viết chương trình nhập vào 1 số tự nhiên m biểu diễn số tháng đã trôi qua, xuất ra màn hình số lượng thỏ hiện tại.\n",
    "\n",
    "[Dữ liệu nhập vào]\n",
    "\n",
    "-\tMột số tự nhiên m là số tháng đã trôi qua ở khu rừng trên\n",
    "\n",
    "[Dữ liệu xuất ra]\n",
    "\n",
    "-\tMột số tự nhiên là số lượng con thỏ trong rừng nếu các con thỏ không chết.\n",
    "\n",
    "Ví dụ:\n",
    "\n",
    "-\tNhập vào: 2\n",
    "\n",
    "-\tXuất ra: 8\n",
    "\n",
    "-\tGiải thích: Chương trình nhận yêu cầu tính toán số con thỏ trong rừng sau 2 tháng. Trong rừng có sẵn 2 con thỏ. Sau tháng thứ nhất, số con thỏ tăng gấp đôi thành 4 con thỏ. Sau tháng thứ hai, số con thỏ tăng gấp đôi thành 8 con thỏ. Chương trình xuất ra màn hình giá trị 8."
   ]
  },
  {
   "cell_type": "code",
   "execution_count": null,
   "metadata": {},
   "outputs": [],
   "source": [
    "m = int(input())\n",
    "print(2**(m+1))"
   ]
  },
  {
   "cell_type": "code",
   "execution_count": null,
   "metadata": {},
   "outputs": [],
   "source": []
  }
 ],
 "metadata": {
  "kernelspec": {
   "display_name": "Python 3",
   "language": "python",
   "name": "python3"
  },
  "language_info": {
   "codemirror_mode": {
    "name": "ipython",
    "version": 3
   },
   "file_extension": ".py",
   "mimetype": "text/x-python",
   "name": "python",
   "nbconvert_exporter": "python",
   "pygments_lexer": "ipython3",
   "version": "3.7.3"
  }
 },
 "nbformat": 4,
 "nbformat_minor": 2
}
