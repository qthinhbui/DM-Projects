{
 "cells": [
  {
   "cell_type": "markdown",
   "metadata": {
    "collapsed": true
   },
   "source": [
    "# Bài 1\n",
    "\n",
    "Một sân vận động hình tròn có bán kính là R. Biết R là 1 số tự nhiên dương được nhập vào từ bàn phím như code mẫu.\n",
    "\n",
    "Cho Hàm area(R) là hàm nhận vào 1 tham số là bán kính của hành tinh và trả về diện tích của sân vận động đó. Viết tiếp vào hàm area(R) trong chương trình sau để hàm trả về kết quả mong muốn."
   ]
  },
  {
   "cell_type": "code",
   "execution_count": 7,
   "metadata": {},
   "outputs": [
    {
     "name": "stdout",
     "output_type": "stream",
     "text": [
      "12\n",
      "452.3893421169302\n"
     ]
    }
   ],
   "source": [
    "import math\n",
    "def area(R):\n",
    "    pi = math.pi\n",
    "    #type your code below  \n",
    "    return pi*R**2\n",
    "    #end your code\n",
    "     \n",
    "# do not change the code below!\n",
    "R = int(input())\n",
    "print(area(R))"
   ]
  },
  {
   "cell_type": "markdown",
   "metadata": {},
   "source": [
    "# Bài 2\n",
    "\n",
    "Chương trình sau đây sẽ xuất ra màn hình tổng của các số tự nhiên lẻ bé hơn n.\n",
    "\n",
    "Hãy viết thêm vào hàm isOdd(k) để chương trình chạy tốt. Hàm isOdd(k) là hàm nhận vào 1 tham số là số tự nhiên k, trả về True nếu k là số lẻ, ngược lại trả về False.\n",
    "\n",
    "n (n > 0) được nhập vào từ bàn phím như code mẫu.\n",
    "\n",
    "Ví dụ:\n",
    "- n = 10\n",
    "- Có 5 số lẻ nhỏ hơn 10 là: 1, 3, 5, 7, 9 \n",
    "- Tổng của chúng: 1 + 3 + 5 + 7 + 9\n",
    "- Kết quả cần xuất ra: 25"
   ]
  },
  {
   "cell_type": "code",
   "execution_count": 8,
   "metadata": {},
   "outputs": [
    {
     "name": "stdout",
     "output_type": "stream",
     "text": [
      "12\n",
      "36\n"
     ]
    }
   ],
   "source": [
    "def isOdd(k):\n",
    "   #type your code below \n",
    "   return k % 2 == 1\n",
    "   #end your code\n",
    "        \n",
    "# do not change the code below!\n",
    "n = int(input())\n",
    "s = 0\n",
    "for i in range(1,n):\n",
    "    if isOdd(i):\n",
    "        s = s + i\n",
    "print(s)"
   ]
  },
  {
   "cell_type": "markdown",
   "metadata": {},
   "source": [
    "# Bài 3\n",
    "\n",
    "Chứng minh nhân dân, hay Thẻ Căn cước Công dân, là một loại giấy tờ tùy thân của công dân, trong đó có xác nhận của cơ quan nhà nước có thẩm quyền về đặc điểm căn cước, lai lịch của người được cấp.\n",
    "\n",
    "Ta giả sử Số CMND hợp lệ khi nó chỉ chứa các ký tự số và phải có đúng 9 chữ số.\n",
    "\n",
    "Hãy viết nội dung vào 2 hàm isAllNumber(a) và checkNumLength(a) để chương trình sau đây chạy đúng. Biết rằng:\n",
    "\n",
    "- Hàm isAllNumber(a) sẽ trả về True nếu chuỗi a gồm toàn ký tự số, ngược lại trả về False.\n",
    "\n",
    "- Hàm checkNumLength(a) sẽ trả về True nếu chuỗi a có độ dài chuỗi là 9, ngược lại trả về False.\n",
    "\n",
    "a là 1 chuỗi được nhập vào từ bàn phím như code mẫu.\n",
    "\n",
    "Ví dụ:\n",
    "- a = \"32857449\"\n",
    "- isAllNumber(a) sẽ trả về True vì chuỗi a gồm toàn ký tự số\n",
    "- checkNumLength(a) sẽ trả về False vì chuỗi a chỉ có độ dài là 8"
   ]
  },
  {
   "cell_type": "code",
   "execution_count": 4,
   "metadata": {},
   "outputs": [
    {
     "name": "stdout",
     "output_type": "stream",
     "text": [
      "13123u1\n",
      "False\n"
     ]
    }
   ],
   "source": [
    "def isAllNumber(a):\n",
    "   #type your code below \n",
    "   return a.isnumeric()\n",
    "        \n",
    "   #end your code\n",
    "\n",
    "def checkNumLength(a):\n",
    "   #type your code below \n",
    "   return len(a) == 9\n",
    "        \n",
    "   #end your code\n",
    "        \n",
    "# do not change the code below!\n",
    "a = input()\n",
    "print(isAllNumber(a) and checkNumLength(a))"
   ]
  },
  {
   "cell_type": "markdown",
   "metadata": {},
   "source": [
    "# Bài 4\n",
    "\n",
    "Số phức là số có dạng a+bi, trong đó a và b là các số thực, i là đơn vị ảo, với bình phương của i bằng -1 .\n",
    "\n",
    "Trong biểu thức này, số a gọi là phần thực, b gọi là phần ảo của số phức. Số phức có thể được biểu diễn trên mặt phẳng phức với trục hoành là trục thực và trục tung là trục ảo, do đó một số phức a+bi được xác định bằng một điểm có tọa độ (a,b). Một số phức nếu có phần thực bằng không thì gọi là số thuần ảo, nếu có phần ảo bằng không thì trở thành là số thực.\n",
    "\n",
    "Định nghĩa số phức có vẻ lạ, khi quy ước bình phương của i là 1 con số âm (-1). Nhưng việc mở rộng trường số phức giúp ta giải rất hiệu quả những bài toán mà không thể giải trong trường số thực.\n",
    "\n",
    "Phép cộng và nhân các số phức được thực hiện như phép cộng và nhân các nhị thức bậc nhất với lưu ý rằng i bình phương bằng –1.\n",
    "\n",
    "Kết quả phép cộng, trừ, nhân của 2 số phức là 1 số phức.\n",
    "\n",
    "Hàm multComplexNum(a,b,c,d) bên dưới có chức năng nhận vào 4 tham số đặc trưng cho 2 số phức là a +bi và c + di, hàm sẽ in ra màn hình kết quả phép nhân 2 số phức đó.\n",
    "\n",
    "Hãy viết thêm vào nội dung của hàm multComplexNum(a,b,c,d) để hàm xuất ra màn hình kết quả phép nhân với định dạng là: \"{phần thực} {phần ảo}\"\n",
    "\n",
    "Trong bài này, ta giới hạn rằng a,b,c,d là các số nguyên. Vì vậy kết quả phần thực và phần ảo xuất ra phải ở dạng số nguyên.\n",
    "\n",
    "Ví dụ:\n",
    "- a = 5, b = -1, c = -3, d = 7\n",
    "- Hàm của bạn sẽ thực hiện phép nhân 2 số phức: 5 - i  và -3 + 7i\n",
    "- Kết quả phép nhân trên là số phức: -8 + 38i\t\n",
    "- Vậy hàm multComplexNum(a,b,c,d) xuất ra màn hình chuỗi: -8 38"
   ]
  },
  {
   "cell_type": "code",
   "execution_count": 6,
   "metadata": {},
   "outputs": [
    {
     "name": "stdout",
     "output_type": "stream",
     "text": [
      "5\n",
      "-1\n",
      "-3\n",
      "7\n",
      "-8 38\n"
     ]
    }
   ],
   "source": [
    "def multComplexNum(a,b,c,d):\n",
    "   #type your code below \n",
    "   return print(a*c - b*d, a*d + b*c)\n",
    "   #end your code\n",
    "        \n",
    "# do not change the code below!\n",
    "a = int(input())\n",
    "b = int(input())\n",
    "c = int(input())\n",
    "d = int(input())\n",
    "multComplexNum(a,b,c,d)\n"
   ]
  }
 ],
 "metadata": {
  "kernelspec": {
   "display_name": "Python 3",
   "language": "python",
   "name": "python3"
  },
  "language_info": {
   "codemirror_mode": {
    "name": "ipython",
    "version": 3
   },
   "file_extension": ".py",
   "mimetype": "text/x-python",
   "name": "python",
   "nbconvert_exporter": "python",
   "pygments_lexer": "ipython3",
   "version": "3.7.3"
  }
 },
 "nbformat": 4,
 "nbformat_minor": 2
}
