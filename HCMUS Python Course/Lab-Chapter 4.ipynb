{
  "cells": [
    {
      "metadata": {
        "collapsed": true
      },
      "cell_type": "markdown",
      "source": "# Bài 1\n\nViết chương trình xuất ra màn hình số lượng số tự nhiên chia hết cho 8 trong đoạn từ a đến b với a và b là 2 số tự nhiên (a < b) được nhập vào từ bàn phím như code mẫu.\n\nVí dụ: a = 1, b = 16. Trong đoạn từ 1 đến 16 có 2 số tự nhiên chia hết cho 8 là: 8, 16 \n\nKết quả cần xuất ra: 2"
    },
    {
      "metadata": {
        "trusted": true
      },
      "cell_type": "code",
      "source": "a = int(input())\nb = int(input())\ncount = 0\nfor i in range(a,b+1):\n    if i % 8 == 0:\n        count += 1\nprint(count)",
      "execution_count": 3,
      "outputs": [
        {
          "output_type": "stream",
          "name": "stdout",
          "text": "1\n16\n2\n"
        }
      ]
    },
    {
      "metadata": {},
      "cell_type": "markdown",
      "source": "# Bài 2\n\nViết chương trình xuất ra màn hình tổng của n số tự nhiên đầu tiên chia hết cho k với n và k là 2 số tự nhiên (n > 0 và k khác 0) được nhập vào từ bàn phím như code mẫu.\n\nVí dụ: n = 3, k = 5. Ba số tự nhiên đầu tiên chia hết cho 5 là: 0, 5, 10. Tổng của chúng: 0 + 5 + 10 = 15\n\nKết quả cần xuất ra: 15"
    },
    {
      "metadata": {
        "trusted": true
      },
      "cell_type": "code",
      "source": "n = int(input())\nk = int(input())\ncount = 0\nfor i in range(0,n):\n    count += i*k\nprint(count)",
      "execution_count": 5,
      "outputs": [
        {
          "output_type": "stream",
          "name": "stdout",
          "text": "3\n5\n15\n"
        }
      ]
    },
    {
      "metadata": {},
      "cell_type": "markdown",
      "source": "# Bài 3\n\nCho s là 1 chuỗi bất kỳ được nhập vào từ bàn phím như code mẫu.\n\nViết chương trình xuất ra màn hình số ký tự là chữ cái thuộc bảng chữ cái tiếng anh trong chuỗi s. Lưu ý rằng, không phân biệt chữ in hay chữ thường.\n\nVí dụ: Cho s = \"123 buoc deu buoc 123 !!!\". Khi đó, s gồm có 11 ký tự là chữ cái xuất hiện, lần lượt là: b, u, o, c, d, e, u, b, u, o, c\n\nKết quả cần xuất ra màn hình: 11"
    },
    {
      "metadata": {
        "trusted": true
      },
      "cell_type": "code",
      "source": "s = input()\ns = s.lower()\ncount = 0\nfor i in s:\n    if i.isalpha():\n        count += 1\nprint(count)",
      "execution_count": 9,
      "outputs": [
        {
          "output_type": "stream",
          "name": "stdout",
          "text": "123 buoc deu buoc 123 !!!\n11\n"
        }
      ]
    },
    {
      "metadata": {},
      "cell_type": "markdown",
      "source": "# Bài 4\n\nViết chương trình xuất ra màn hình tổng bình phương của các số tự nhiên trong đoạn từ a đến b với a và b là 2 số tự nhiên (a < b) được nhập vào từ bàn phím như code mẫu.\n\nVí dụ: a = 2, b = 5. Tổng bình phương các số tự nhiên trong đoạn 2 đến 5 là: 4 + 9 + 16 + 25 = 54\n\nKết quả cần xuất ra: 54"
    },
    {
      "metadata": {
        "trusted": true
      },
      "cell_type": "code",
      "source": "a = int(input())\nb = int(input())\ncount = 0\nfor i in range(a,b+1):\n    count += i**2\nprint(count)",
      "execution_count": 12,
      "outputs": [
        {
          "output_type": "stream",
          "name": "stdout",
          "text": "2\n5\n54\n"
        }
      ]
    },
    {
      "metadata": {},
      "cell_type": "markdown",
      "source": "# Bài 5\n\nViết chương trình xuất ra màn hình số lượng ước chung dương của 2 số tự nhiên a và b với a và b là 2 số tự nhiên được nhập vào từ bàn phím như code mẫu. (a và b không đồng thời bằng 0).\n\nNhắc lại định nghĩa: Số tự nhiên n chia hết cho số tự nhiên m thì ta nói n là bội của m, còn m là ước của n. Nếu số k vừa là ước của số a và vừa là ước của số b thì ta nói k là ước số chung của a và b.\n\nVí dụ: a = 12, b = 30. Hai số a và b có 4 ước chung dương là: 1, 2, 3, 6.\n\nKết quả cần xuất ra: 4"
    },
    {
      "metadata": {
        "trusted": true
      },
      "cell_type": "code",
      "source": "a = int(input())\nb = int(input())\ncount = 0\nif (a == 0) and (b != 0):\n    for i in range(1,b+1):\n        if b%i == 0:\n            count += 1\n    print(count)\nelif (a != 0) and (b == 0):\n    for i in range(1,a+1):\n        if a%i == 0:\n            count += 1\n    print(count)\nelif (a == 0) and (b == 0):\n    print(\"Inf\")\nelse:\n    for i in range(1,min(a,b)+1):\n        if (a%i == 0) and (b%i == 0):\n            count += 1\n    print(count)",
      "execution_count": 21,
      "outputs": [
        {
          "output_type": "stream",
          "name": "stdout",
          "text": "0\n0\nInf\n"
        }
      ]
    },
    {
      "metadata": {
        "trusted": true
      },
      "cell_type": "code",
      "source": "",
      "execution_count": null,
      "outputs": []
    }
  ],
  "metadata": {
    "kernelspec": {
      "name": "python36",
      "display_name": "Python 3.6",
      "language": "python"
    },
    "language_info": {
      "mimetype": "text/x-python",
      "nbconvert_exporter": "python",
      "name": "python",
      "pygments_lexer": "ipython3",
      "version": "3.6.6",
      "file_extension": ".py",
      "codemirror_mode": {
        "version": 3,
        "name": "ipython"
      }
    }
  },
  "nbformat": 4,
  "nbformat_minor": 2
}