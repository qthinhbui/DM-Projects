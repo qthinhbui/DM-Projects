{
  "cells": [
    {
      "metadata": {
        "collapsed": true
      },
      "cell_type": "markdown",
      "source": "# Bài 1\n\nMột câu thông thường bao gồm hai thành phần là chủ ngữ và vị ngữ.\n\nTa có hai biến:\n- Biến chu_ngu sẽ nhận giá trị chủ ngữ của câu.\n- Biến vi_ngu sẽ nhận giá trị vị ngữ của câu.\n\nHai biến này có giá trị được nhập vào từ bàn phím như đoạn code mẫu bên dưới.\n\nHãy viết chương trình xuất 1 câu đầy đủ bằng cách nối vị ngữ vào sau chủ ngữ.\n\n\nVí dụ:\n\nchu_ngu = \"An\"\n\nvi_ngu = \"di da bong\"\n\nThì câu cần xuất ra màn hình là \"An di da bong\"."
    },
    {
      "metadata": {
        "trusted": true
      },
      "cell_type": "code",
      "source": "chu_ngu = input()\nvi_ngu = input()\n#type your code below\nprint(chu_ngu + \" \" + vi_ngu)",
      "execution_count": 2,
      "outputs": [
        {
          "output_type": "stream",
          "name": "stdout",
          "text": "An\ndi da bong\nAn di da bong\n"
        }
      ]
    },
    {
      "metadata": {},
      "cell_type": "markdown",
      "source": "# Bài 2\n\nCho số nguyên age biểu diễn tuổi của 1 người, chuỗi name biểu diễn tên của người đó.\n\nViết chương trình xuất ra chuỗi \"{name}: {age}\".\n\nSố nguyên age và chuỗi tên name được nhập vào từ bàn phím.\n\nVí dụ:\n\nage = 18\n\nname = \"Huy\"\n\nThì chuỗi cần xuất ra là \"Huy: 18\"."
    },
    {
      "metadata": {
        "trusted": true
      },
      "cell_type": "code",
      "source": "age = int(input())\nname = input()\nprint(name + \": \" + str(age))",
      "execution_count": 10,
      "outputs": [
        {
          "output_type": "stream",
          "name": "stdout",
          "text": "18\nHuy\nHuy: 18\n"
        }
      ]
    },
    {
      "metadata": {},
      "cell_type": "markdown",
      "source": "# Bài 3\n\nViết chương trình tính chiều dài chuỗi s.\n\nChuỗi s được nhập vào từ bàn phím. In ra màn hình chiều dài của chuỗi."
    },
    {
      "metadata": {
        "trusted": true
      },
      "cell_type": "code",
      "source": "s = input()\nprint(len(s))",
      "execution_count": 8,
      "outputs": [
        {
          "output_type": "stream",
          "name": "stdout",
          "text": "67\n2\n"
        }
      ]
    },
    {
      "metadata": {},
      "cell_type": "markdown",
      "source": "# Bài 4\n\nViết chương trình nhập vào 1 chuỗi s, xuất ra màn hình True nếu toàn bộ ký tự trong s là ký tự số, ngược lại xuất ra False.\n\nGiá trị chuỗi s được nhập vào từ bàn phím."
    },
    {
      "metadata": {
        "trusted": true
      },
      "cell_type": "code",
      "source": "s = input()\nprint(s.isnumeric())",
      "execution_count": 12,
      "outputs": [
        {
          "output_type": "stream",
          "name": "stdout",
          "text": "eee\nFalse\n"
        }
      ]
    },
    {
      "metadata": {},
      "cell_type": "markdown",
      "source": "# Bài 5\n\nBan đầu trong rừng có một cặp thỏ, biết rằng cứ sau 1 tháng thì số lượng thỏ trong rừng tăng lên gấp đôi.\n\nHỏi sau m tháng thì có bao nhiêu con thỏ? Giả sử các con thỏ không chết.\n\nViết chương trình nhập vào 1 số nguyên m biểu diễn số tháng đã trôi qua, xuất ra màn hình số lượng thỏ hiện tại."
    },
    {
      "metadata": {
        "trusted": true
      },
      "cell_type": "code",
      "source": "m = int(input())\nprint(2**(m+1))",
      "execution_count": 15,
      "outputs": [
        {
          "output_type": "stream",
          "name": "stdout",
          "text": "3\n16\n"
        }
      ]
    },
    {
      "metadata": {
        "trusted": true
      },
      "cell_type": "code",
      "source": "",
      "execution_count": null,
      "outputs": []
    }
  ],
  "metadata": {
    "kernelspec": {
      "name": "python36",
      "display_name": "Python 3.6",
      "language": "python"
    },
    "language_info": {
      "mimetype": "text/x-python",
      "nbconvert_exporter": "python",
      "name": "python",
      "pygments_lexer": "ipython3",
      "version": "3.6.6",
      "file_extension": ".py",
      "codemirror_mode": {
        "version": 3,
        "name": "ipython"
      }
    }
  },
  "nbformat": 4,
  "nbformat_minor": 2
}