{
 "cells": [
  {
   "cell_type": "markdown",
   "metadata": {
    "collapsed": true
   },
   "source": [
    "# Bài 1\n",
    "\n",
    "Viết chương trình cho người dùng lần lượt nhập vào thu nhập của từng ngày trong tuần và tính tổng thu nhập của tuần đó.\n",
    "\n",
    "[Dữ liệu nhập vào]\n",
    "\n",
    "-\tBảy dòng liên tiếp, mỗi dòng là một số tự nhiên là thu nhập của từng ngày trong tuần (cùng đơn vị).\n",
    "\n",
    "[Dữ liệu xuất ra]\n",
    "\n",
    "-\tMột số tự nhiên là tổng thu nhập của người dùng trong cả tuần.\n",
    "\n",
    "Ví dụ (Dấu cách trong dữ liệu nhập xuất tương ứng với dấu xuống dòng):\n",
    "\n",
    "-\tNhập vào: 1 2 3 4 5 6 7\n",
    "\n",
    "-\tXuất ra: 28\n",
    "\n",
    "-\tGiải thích: Chương trình được yêu cầu tính tổng thu nhập cho người dùng trong tuần với giá trị thu nhập của từng ngày là 1 2 3 4 5 6 7. Tổng thu nhập của người dùng trong tuần đó là 1 + 2 + 3 + 4 + 5 + 6 + 7 = 28 (đơn vị tiền tệ). Chương trình xuất ra màn hình giá trị 28."
   ]
  },
  {
   "cell_type": "code",
   "execution_count": 2,
   "metadata": {},
   "outputs": [
    {
     "name": "stdout",
     "output_type": "stream",
     "text": [
      "1\n",
      "2\n",
      "3\n",
      "4\n",
      "5\n",
      "6\n",
      "7\n",
      "28\n"
     ]
    }
   ],
   "source": [
    "tong_thu_nhap = 0\n",
    "for i in range(1,8):\n",
    "    thu_nhap_ngay_i = int(input())\n",
    "    tong_thu_nhap += thu_nhap_ngay_i\n",
    "print(tong_thu_nhap)"
   ]
  },
  {
   "cell_type": "markdown",
   "metadata": {},
   "source": [
    "# Bài 2\n",
    "\n",
    "Một công ty mỗi phút có thể sản xuất ra n sản phẩm. Viết chương trình báo cáo số sản phẩm sản xuất được trong 15, 30, 45, 60 phút.\n",
    "\n",
    "[Dữ liệu nhập vào]\n",
    "\n",
    "-\tMột số tự nhiên n là số sản phẩm công ty có thể sản xuất mỗi phút.\n",
    "\n",
    "[Dữ liệu xuất ra]\n",
    "\n",
    "-\tBốn dòng, mỗi dòng là một số tự nhiên là số sản phẩm công ty có thể sản xuất được trong 15, 30, 45, 60 phút.\n",
    "\n",
    "Ví dụ (Dấu cách trong dữ liệu nhập xuất tương ứng với dấu xuống dòng):\n",
    "\n",
    "-\tNhập vào: 10\n",
    "\n",
    "-\tXuất ra:\n",
    "\n",
    "    150\n",
    "    \n",
    "    300\n",
    "    \n",
    "    450\n",
    "    \n",
    "    600\n",
    "\n",
    "-\tGiải thích: Chương trình được yêu cầu tính số lượng sản phẩm tạo ra nếu mỗi phút tạo được 10 sản phẩm. Vậy trong 15, 30, 45, 60 phút, công ty có thể lần lượt sản xuất 150, 300, 450, 600 sản phẩm. Chương trình xuất ra màn hình các giá trị 150, 300, 450, 600, mỗi giá trị nằm trong một dòng."
   ]
  },
  {
   "cell_type": "code",
   "execution_count": 3,
   "metadata": {},
   "outputs": [
    {
     "name": "stdout",
     "output_type": "stream",
     "text": [
      "10\n",
      "150\n",
      "300\n",
      "450\n",
      "600\n"
     ]
    }
   ],
   "source": [
    "san_pham_moi_phut = int(input())\n",
    "for i in range(1,5):\n",
    "    print(san_pham_moi_phut * 15 * i)"
   ]
  },
  {
   "cell_type": "markdown",
   "metadata": {},
   "source": [
    "# Bài 3\n",
    "\n",
    "Viết chương trình giúp người dùng quản lý tài chính bản thân. Người dùng sẽ nhập vào số tiền còn trong tài khoản đầu tháng, và lần lượt nhập vào các giá trị giao dịch trong tháng, kết thúc khi nhập một số nhỏ hơn 0. Xuất ra cho người dùng số tiền còn lại trong tài khoản.\n",
    "\n",
    "[Dữ liệu nhập vào]\n",
    "\n",
    "-\tDòng đầu tiên là một số tự nhiên, là số tiền ban đầu trong tài khoản.\n",
    "\n",
    "-\tNhững dòng tiếp theo, mỗi dòng là một số nguyên là số tiền tiêu phí của người dùng. Kết thúc nhập nếu số vừa được nhập là một số âm.\n",
    "\n",
    "[Dữ liệu xuất ra]\n",
    "\n",
    "-\tMột số tự nhiên là số tiền còn lại của người dùng trong tài khoản.\n",
    "\n",
    "Ví dụ (Dấu cách trong dữ liệu nhập xuất tương ứng với dấu xuống dòng):\n",
    "\n",
    "-\tNhập vào: 1000000 200000 700000 -1\n",
    "\n",
    "-\tXuất ra: 100000\n",
    "\n",
    "-\tGiải thích: Chương trình được yêu cầu tính số tiền còn lại trong tài khoản nếu tài khoản ban đầu là 1000000. Có 2 giao dịch ứng với tài khoản được ghi nhận là 200000 và 700000. Việc nhập dữ liệu dừng lại do đọc được số -1. Vậy tài khoản còn lại 1000000 – 200000 - 700000 = 100000. Chương trình xuất ra màn hình giá trị 100000."
   ]
  },
  {
   "cell_type": "code",
   "execution_count": 6,
   "metadata": {},
   "outputs": [
    {
     "name": "stdout",
     "output_type": "stream",
     "text": [
      "100\n",
      "20\n",
      "80\n",
      "-1\n",
      "0\n"
     ]
    }
   ],
   "source": [
    "so_tien_trong_tai_khoan = int(input())\n",
    "so_tien_tieu_phi = 0\n",
    "while True:\n",
    "    so_tien_tieu_phi = int(input())\n",
    "    if so_tien_tieu_phi >= 0:\n",
    "        so_tien_trong_tai_khoan -= so_tien_tieu_phi\n",
    "    else:\n",
    "        break\n",
    "\n",
    "print(so_tien_trong_tai_khoan)"
   ]
  },
  {
   "cell_type": "markdown",
   "metadata": {},
   "source": [
    "# Bài 4\n",
    "\n",
    "Viết chương trình cho phép người dùng nhập vào số năm, sau đó lần lượt nhập vào số lượng mưa của từng năm. Xuất ra tổng lượng mưa và lượng mưa trung bình. Lượng mưa trung bình được tính bằng công thức:\n",
    "\n",
    "Lượng mưa trung bình = Tổng lượng mưa các năm / số năm\n",
    "\n",
    "[Dữ liệu nhập vào]\n",
    "\n",
    "-\tDòng đầu tiên là một số tự nhiên n, là số năm được đo đạc lượng mưa.\n",
    "\n",
    "-\tn dòng tiếp theo, mỗi dòng là một số tự nhiên, là lượng mưa của từng năm được đo đạc trong n năm.\n",
    "\n",
    "[Dữ liệu xuất ra]\n",
    "\n",
    "-\tHai dòng, mỗi dòng là một số tự nhiên lần lượt tương ứng với tổng lượng mưa và lượng mưa trung bình. (Chú ý sử dụng phép chia nguyên để lượng mưa trung bình nhận được là số nguyên).\n",
    "\n",
    "Ví dụ (Dấu cách trong dữ liệu nhập xuất tương ứng với dấu xuống dòng):\n",
    "\n",
    "-\tNhập vào: 2 100 50\n",
    "\n",
    "-\tXuất ra:\n",
    "\n",
    "    150\n",
    "    \n",
    "    75\n",
    "\n",
    "-\tGiải thích: Chương trình được yêu cầu tính tổng lượng mưa và lượng mưa trung bình trong 2 năm. Lượng mưa các năm lần lượt là 100 và 50 (đơn vị đo lượng mưa). Tổng lượng mưa là 100 + 50 = 150. Lượng mưa trung bình là 150/2 = 75. Chương trình xuất ra màn hình các giá trị 150 và 75 mỗi giá trị nằm trong một dòng."
   ]
  },
  {
   "cell_type": "code",
   "execution_count": 7,
   "metadata": {},
   "outputs": [
    {
     "name": "stdout",
     "output_type": "stream",
     "text": [
      "2\n",
      "100\n",
      "50\n",
      "150\n",
      "75\n"
     ]
    }
   ],
   "source": [
    "so_nam = int(input())\n",
    "tong_luong_mua = 0\n",
    "for i in range(0, so_nam):\n",
    "    luong_mua_trong_nam = int(input())\n",
    "    tong_luong_mua += luong_mua_trong_nam\n",
    "    \n",
    "print(tong_luong_mua)\n",
    "print(tong_luong_mua // so_nam)"
   ]
  },
  {
   "cell_type": "markdown",
   "metadata": {},
   "source": [
    "# Bài 5\n",
    "\n",
    "Viết chương trình nhập vào một số từ 1 - 9, xuất ra kết quả bảng cửu chương của số đó.\n",
    "\n",
    "[Dữ liệu nhập vào]\n",
    "\n",
    "-\tMột số tự nhiên n (1 <= n <= 9).\n",
    "\n",
    "[Dữ liệu xuất ra]\n",
    "\n",
    "-\t10 dòng tiếp theo mỗi dòng là một số tự nhiên, là bảng cửu chương của số n theo thứ tự tăng dần (là tích của n với các số tự nhiên từ 1 đến 10).\n",
    "\n",
    "Ví dụ (Dấu cách trong dữ liệu nhập xuất tương ứng với dấu xuống dòng):\n",
    "\n",
    "-\tNhập vào: 2\n",
    "\n",
    "-\tXuất ra:\n",
    "\n",
    "    2\n",
    "    \n",
    "    4\n",
    "    \n",
    "    6\n",
    "    \n",
    "    8\n",
    "    \n",
    "    10\n",
    "    \n",
    "    12\n",
    "    \n",
    "    14\n",
    "    \n",
    "    16\n",
    "    \n",
    "    18\n",
    "    \n",
    "    20\n",
    "\n",
    "-\tGiải thích: Chương trình được yêu cầu xuất ra kết quả bảng cửu chương của 2. Ta biết tích của 2 với các số tự nhiên từ 1 -> 10 lần lượt là : 2, 4, 6, 8, 10, 12, 14, 16, 18, 20. Chương trình xuất ra màn hình các giá trị : 2, 4, 6, 8, 10, 12, 14, 16, 18, 20, mỗi giá trị nằm trong một dòng."
   ]
  },
  {
   "cell_type": "code",
   "execution_count": 8,
   "metadata": {},
   "outputs": [
    {
     "name": "stdout",
     "output_type": "stream",
     "text": [
      "2\n",
      "2\n",
      "4\n",
      "6\n",
      "8\n",
      "10\n",
      "12\n",
      "14\n",
      "16\n",
      "18\n",
      "20\n"
     ]
    }
   ],
   "source": [
    "n = int(input())\n",
    "for i in range(1,11):\n",
    "    print(n * i)"
   ]
  },
  {
   "cell_type": "markdown",
   "metadata": {},
   "source": [
    "# Bài 6\n",
    "\n",
    "Viết chương trình xuất ra màn hình số lượng số tự nhiên chia hết cho 8 trong đoạn từ a đến b. Trong đó a, b là 2 số tự nhiên (a < b) được nhập vào từ bàn phím.\n",
    "\n",
    "[Dữ liệu nhập vào]\n",
    "\n",
    "-\tHai dòng, là hai số tự nhiên tương ứng với a và b ( a < b )\n",
    "\n",
    "[Dữ liệu xuất ra]\n",
    "\n",
    "-\tMột số tự nhiên là số lượng số tự nhiên chia hết cho 8 trong đoạn từ a đến b.\n",
    "\n",
    "Ví dụ (Dấu cách trong dữ liệu nhập xuất tương ứng với dấu xuống dòng):\n",
    "\n",
    "-\tNhập vào: 1 16\n",
    "\n",
    "-\tXuất ra: : 2\n",
    "\n",
    "-\tGiải thích: Chương trình được yêu cầu xuất ra tổng các số tự nhiên chia hết cho 8 trong đoạn từ 1 đến 16. Trong đoạn từ 1 đến 16, dễ thấy có 2 số tự nhiên chia hết cho 8 là 8 và 16. Chương trình xuất ra màn hình giá trị 2."
   ]
  },
  {
   "cell_type": "code",
   "execution_count": 9,
   "metadata": {},
   "outputs": [
    {
     "name": "stdout",
     "output_type": "stream",
     "text": [
      "1\n",
      "16\n",
      "2\n"
     ]
    }
   ],
   "source": [
    "a = int(input())\n",
    "b = int(input())\n",
    "\n",
    "count = 0\n",
    "for i in range(a, b + 1):\n",
    "    if i % 8 == 0:\n",
    "        count += 1\n",
    "print(count)"
   ]
  },
  {
   "cell_type": "markdown",
   "metadata": {},
   "source": [
    "# Bài 7\n",
    "\n",
    "Viết chương trình xuất ra màn hình tổng của n số tự nhiên đầu tiên chia hết cho k.\n",
    "\n",
    "n và k là 2 số tự nhiên (n > 0 và k khác 0) được nhập vào từ bàn phím.\n",
    "\n",
    "[Dữ liệu nhập vào]\n",
    "\n",
    "-\tDòng đầu tiên là số tự nhiên n (n > 0).\n",
    "\n",
    "-\tDòng tiếp theo là số tự nhiên k (k khác 0).\n",
    "\n",
    "[Dữ liệu xuất ra]\n",
    "\n",
    "-\tMột số tự nhiên là tổng của n số tự nhiên đầu tiên chia hết cho k.\n",
    "\n",
    "Ví dụ (Dấu cách trong dữ liệu nhập xuất tương ứng với dấu xuống dòng):\n",
    "\n",
    "-\tNhập vào: 3 5\n",
    "\n",
    "-\tXuất ra: : 15\n",
    "\n",
    "-\tGiải thích: Chương trình được yêu cầu xuất ra tổng của 3 số tự nhiên đầu tiên chia hết cho 5. Ta thấy ba số tự nhiên đầu tiên chia hết cho 5 là 0, 5, 10. Tổng của chúng là 0 + 5 + 10 = 15. Chương trình xuất ra màn hình giá trị 15."
   ]
  },
  {
   "cell_type": "code",
   "execution_count": 11,
   "metadata": {},
   "outputs": [
    {
     "name": "stdout",
     "output_type": "stream",
     "text": [
      "3\n",
      "5\n",
      "15\n"
     ]
    }
   ],
   "source": [
    "n = int(input())\n",
    "k = int(input())\n",
    "\n",
    "count = 0\n",
    "for i in range(0, n):\n",
    "    count += k * i\n",
    "print(count)"
   ]
  },
  {
   "cell_type": "markdown",
   "metadata": {},
   "source": [
    "# Bài 8\n",
    "\n",
    "Cho s là 1 chuỗi bất kỳ được nhập vào từ bàn phím.\n",
    "\n",
    "Viết chương trình xuất ra màn hình số ký tự là chữ cái thuộc bảng chữ cái tiếng anh trong chuỗi s. Không phân biệt chữ in hay chữ thường.\n",
    "\n",
    "[Dữ liệu nhập vào]\n",
    "\n",
    "-\tMột chuỗi ký tự s bất kỳ.\n",
    "\n",
    "[Dữ liệu xuất ra]\n",
    "\n",
    "-\tMột số tự nhiên là số chữ cái thuộc bảng chữ cái tiếng anh trong chuỗi s.\n",
    "\n",
    "Ví dụ (Dấu cách trong dữ liệu nhập xuất tương ứng với dấu xuống dòng):\n",
    "\n",
    "-\tNhập vào: “123 buoc deu buoc 123 !!!”\n",
    "\n",
    "-\tXuất ra: 11\n",
    "\n",
    "-\tGiải thích: Chương trình được yêu cầu tìm số chữ cái thuộc bảng chữ cái tiếng Anh trong chuỗi s. Chuỗi s gồm có 11 ký tự là chữ cái xuất hiện, lần lượt là: b, u, o, c, d, e, u, b, u, o, c, nên kết quả cần xuất ra là 11. Chương trình xuất ra màn hình giá trị 11."
   ]
  },
  {
   "cell_type": "code",
   "execution_count": 13,
   "metadata": {},
   "outputs": [
    {
     "name": "stdout",
     "output_type": "stream",
     "text": [
      "123 buoc deu buoc 123 !!!\n",
      "11\n"
     ]
    }
   ],
   "source": [
    "s = input()\n",
    "\n",
    "count = 0\n",
    "for i in s:\n",
    "    count += i.isalpha()\n",
    "print(count)"
   ]
  },
  {
   "cell_type": "markdown",
   "metadata": {},
   "source": [
    "# Bài 9\n",
    "\n",
    "Viết chương trình xuất ra màn hình tổng bình phương của các số tự nhiên trong đoạn từ a đến b với a, b là 2 số tự nhiên (a < b) được nhập vào từ bàn phím.\n",
    "\n",
    "[Dữ liệu nhập vào]\n",
    "\n",
    "-\tHai dòng, mỗi dòng là một số tự nhiên, lần lượt tương ứng với a và b (a < b).\n",
    "\n",
    "[Dữ liệu xuất ra]\n",
    "\n",
    "-\tMột số tự nhiên là tổng bình phương của các số tự nhiên trong đoạn từ a đến b (gồm cả a và b).\n",
    "\n",
    "Ví dụ (Dấu cách trong dữ liệu nhập xuất tương ứng với dấu xuống dòng):\n",
    "\n",
    "-\tNhập vào: 2 5\n",
    "\n",
    "-\tXuất ra: 54\n",
    "\n",
    "-\tGiải thích: Chương trình được yêu cầu tính tổng bình phương của các số tự nhiên trong đoạn từ 2 đến 5. Kết quả được tính là 22 + 32 + 42 + 52 = 4 + 9 + 16 + 25 = 54. Chương trình xuất ra màn hình giá trị 54."
   ]
  },
  {
   "cell_type": "code",
   "execution_count": 15,
   "metadata": {},
   "outputs": [
    {
     "name": "stdout",
     "output_type": "stream",
     "text": [
      "2\n",
      "5\n",
      "54\n"
     ]
    }
   ],
   "source": [
    "a = int(input())\n",
    "b = int(input())\n",
    "\n",
    "count = 0\n",
    "for i in range(a, b + 1):\n",
    "    count += i**2\n",
    "print(count)"
   ]
  },
  {
   "cell_type": "markdown",
   "metadata": {},
   "source": [
    "# Bài 10\n",
    "\n",
    "Viết chương trình xuất ra màn hình số lượng ước chung dương của 2 số tự nhiên a và b với a, b là 2 số tự nhiên được nhập vào từ bàn phím. (a và b không đồng thời bằng 0)\n",
    "\n",
    "Nhắc lại định nghĩa: Số tự nhiên n chia hết cho số tự nhiên m thì ta nói n là bội của m, còn m là ước của n. Nếu số k vừa là ước của số a và vừa là ước của số b thì ta nói k là ước số chung của a và b.\n",
    "\n",
    "[Dữ liệu nhập vào]\n",
    "\n",
    "-\tHai dòng, là hai số tự nhiên tương ứng với a và b ( a < b )\n",
    "\n",
    "[Dữ liệu xuất ra]\n",
    "\n",
    "-\tMột số tự nhiên là số lượng ước chung dương của 2 số tự nhiên a và b.\n",
    "\n",
    "Ví dụ (Dấu cách trong dữ liệu nhập xuất tương ứng với dấu xuống dòng):\n",
    "\n",
    "-\tNhập vào: 12 30\n",
    "\n",
    "-\tXuất ra: 4\n",
    "\n",
    "-\tGiải thích: Chương trình được yêu cầu xuất ra số lượng ước chung dương của hai số tự nhiên 12 và 30. Dễ thấy 12 và 30 có 4 ước chung dương là 1, 2, 3, 6. Chương trình xuất ra màn hình giá trị 4."
   ]
  },
  {
   "cell_type": "code",
   "execution_count": null,
   "metadata": {},
   "outputs": [],
   "source": [
    "a = int(input())\n",
    "b = int(input())\n",
    "\n",
    "count = 0\n",
    "if (a == 0) and (b != 0):\n",
    "    for i in range(1,b+1):\n",
    "        if b%i == 0:\n",
    "            count += 1\n",
    "    print(count)\n",
    "elif (a != 0) and (b == 0):\n",
    "    for i in range(1,a+1):\n",
    "        if a%i == 0:\n",
    "            count += 1\n",
    "    print(count)\n",
    "elif (a == 0) and (b == 0):\n",
    "    print(\"Inf\")\n",
    "else:\n",
    "    for i in range(1,min(a,b)+1):\n",
    "        if (a%i == 0) and (b%i == 0):\n",
    "            count += 1\n",
    "    print(count)"
   ]
  }
 ],
 "metadata": {
  "kernelspec": {
   "display_name": "Python 3",
   "language": "python",
   "name": "python3"
  },
  "language_info": {
   "codemirror_mode": {
    "name": "ipython",
    "version": 3
   },
   "file_extension": ".py",
   "mimetype": "text/x-python",
   "name": "python",
   "nbconvert_exporter": "python",
   "pygments_lexer": "ipython3",
   "version": "3.7.3"
  }
 },
 "nbformat": 4,
 "nbformat_minor": 2
}
