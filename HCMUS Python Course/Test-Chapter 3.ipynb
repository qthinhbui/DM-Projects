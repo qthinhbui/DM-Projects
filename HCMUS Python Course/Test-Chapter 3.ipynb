{
 "cells": [
  {
   "cell_type": "markdown",
   "metadata": {
    "collapsed": true
   },
   "source": [
    "# Bài 1\n",
    "\n",
    "Viết chương trình xuất ra màn hình số lớn nhất trong 4 số a, b, c, d.\n",
    "\n",
    "Giá trị a, b, c, d là các số nguyên được nhập vào từ bàn phím. In ra màn hình giá trị số lớn nhất"
   ]
  },
  {
   "cell_type": "code",
   "execution_count": 1,
   "metadata": {},
   "outputs": [
    {
     "name": "stdout",
     "output_type": "stream",
     "text": [
      "300 la mot con so! \n"
     ]
    }
   ],
   "source": [
    "a = int(input())\n",
    "b = int(input())\n",
    "c = int(input())\n",
    "d = int(input())\n",
    "\n",
    "index = []\n",
    "index.append(a)\n",
    "index.append(b)\n",
    "index.append(c)\n",
    "index.append(d)\n",
    "print(max(index))"
   ]
  },
  {
   "cell_type": "markdown",
   "metadata": {},
   "source": [
    "# Bài 2\n",
    "\n",
    "Viết chương trình nhập vào 1 số nguyên x, xuất ra màn hình dấu '+' nếu x là số dương, dấu '-' nếu x là số âm, nếu x = 0 thì xuất số '0'\n",
    "\n",
    "Giá trị x được nhập vào từ bàn phím\n",
    "\n",
    "Ví dụ:\n",
    "\n",
    "- x = 5 thì xuất ra +\n",
    "\n",
    "- x = -5 thì xuất ra -\n",
    "\n",
    "- x = 0 thì xuất ra 0"
   ]
  },
  {
   "cell_type": "code",
   "execution_count": null,
   "metadata": {},
   "outputs": [],
   "source": [
    "x = int(input())\n",
    "\n",
    "if x > 0:\n",
    "    print(\"+\")\n",
    "elif x < 0:\n",
    "    print(\"-\")\n",
    "else:\n",
    "    print(\"0\")"
   ]
  },
  {
   "cell_type": "markdown",
   "metadata": {},
   "source": [
    "# Bài 3\n",
    "\n",
    "Cho 2 số nguyên a và b.\n",
    "\n",
    "Viết chương trình kiểm tra xem có tồn tại số nguyên x thỏa a.x + b = 0 hay không. Nếu tồn tại thì in ra Yes, ngược lại thì in ra No\n",
    "\n",
    "a và b được nhập vào từ bàn phím."
   ]
  },
  {
   "cell_type": "code",
   "execution_count": null,
   "metadata": {},
   "outputs": [],
   "source": [
    "a = int(input())\n",
    "b = int(input())\n",
    "\n",
    "if a == 0:\n",
    "    if b == 0:\n",
    "        print(\"Yes\")\n",
    "    else:\n",
    "        prnt(\"No\")\n",
    "else:\n",
    "    if -b % a == 0:\n",
    "        print(\"Yes\")\n",
    "    else:\n",
    "        print(\"No\")"
   ]
  },
  {
   "cell_type": "markdown",
   "metadata": {},
   "source": [
    "# Bài 4\n",
    "\n",
    "Lịch Gregorius, còn gọi là Tây lịch, Công lịch, là một bộ lịch tiêu chuẩn hiện nay được dùng trên hầu hết khắp thế giới do Giáo hoàng Grêgôriô XIII đưa ra vào năm 1582. Tại Việt Nam, Tây lịch được áp dụng ở các công sở vào cuối thế kỷ 19.\n",
    "\n",
    "Theo lịch Gregorius thì những năm nào chia hết cho 4 và không chia hết cho 100 được coi là năm nhuận (ví dụ năm 2000 không phải là năm nhuận, 2004 là năm nhuận). Trong năm nhuận, tháng 2 có 29 ngày thay cho 28 ngày. Cứ 4 năm lại thêm 1 ngày vào lịch bởi vì một năm dương lịch dài khoảng 365 ngày và 6 giờ.\n",
    "\n",
    "Tuy nhiên, vẫn có một số ngoại lệ đối với nguyên tắc này vì một năm dương lịch ngắn hơn 365,25 ngày một chút. Những năm chia hết cho 100 chỉ được coi là năm nhuận nếu chúng cũng chia hết cho 400. Ví dụ, 1600 và 2000 là các năm nhuận nhưng 1700, 1800 và 1900 không phải năm nhuận. Tương tự như vậy, 2100, 2200, 2300, 2500, 2600, 2700, 2900 và 3000 không phải năm nhuận nhưng 2400 và 2800 là các năm nhuận. Theo nguyên tắc này thì trung bình một năm có 365 ngày 5 giờ 49 phút và 12 giây.\n",
    "\n",
    "Cho trước số ngày trong một tháng của năm không nhuận như sau:\n",
    "\n",
    "- Tháng 1 có 31 ngày\n",
    "\n",
    "- Tháng 2 có 28 ngày\n",
    "\n",
    "- Tháng 3 có 31 ngày\n",
    "\n",
    "- Tháng 4 có 30 ngày\n",
    "\n",
    "- Tháng 5 có 31 ngày\n",
    "\n",
    "- Tháng 6 có 30 ngày\n",
    "\n",
    "- Tháng 7 có 31 ngày\n",
    "\n",
    "- Tháng 8 có 31 ngày\n",
    "\n",
    "- Tháng 9 có 30 ngày\n",
    "\n",
    "- Tháng 10 có 31 ngày\n",
    "\n",
    "- Tháng 11 có 30 ngày\n",
    "\n",
    "- Tháng 12 có 31 ngày\n",
    "\n",
    "Hãy viết chương trình xuất ra ngày tiếp theo của 1 ngày cho trước.\n",
    "\n",
    "Các biến d, m, y là các số nguyên được nhập vào từ bàn phím, lần lượt lưu giá trị ngày, tháng, năm của một ngày cho trước. Xuất ra màn hình ngày, tháng, năm của ngày tiếp theo ngày đó theo định dạng:\n",
    "\n",
    "{ngày} {tháng} {năm}\n",
    "\n",
    "Ví dụ 1:\n",
    "- d = 10\n",
    "- m = 4\n",
    "- y = 1990\n",
    "\n",
    "Nghĩa là ngày cho trước là 10/4/1990, vậy ngày tiếp theo là: 11/4/1990\n",
    "\n",
    "Kết quả cần xuất ra màn hình: 11 4 1990\n",
    "\n",
    "Ví dụ 2:\n",
    "- d = 31\n",
    "- m = 12\n",
    "- y = 2018\n",
    "\n",
    "Nghĩa là ngày cho trước là 31/12/2018, vậy ngày tiếp theo là: 1/1/2019\n",
    "\n",
    "Kết quả cần xuất ra màn hình: 1 1 2019"
   ]
  },
  {
   "cell_type": "code",
   "execution_count": null,
   "metadata": {},
   "outputs": [],
   "source": [
    "d = int(input())\n",
    "m = int(input())\n",
    "y = int(input())\n",
    "\n",
    "t30 = [4,6,9,11]\n",
    "t31 = [1,3,5,7,8,10]\n",
    "\n",
    "if (y % 4 == 0 and y % 100 != 0) or (y % 400 == 0):\n",
    "    if m in t30:\n",
    "        if d + 1 <= 30:\n",
    "            print(d + 1,m,y)\n",
    "        else:\n",
    "            print(d + 1 - 30,m + 1,y)\n",
    "    if m in t31:\n",
    "        if d + 1 <= 31:\n",
    "            print(d + 1,m,y)\n",
    "        else:\n",
    "            print(d + 1 - 31,m + 1,y)\n",
    "    if m == 2:\n",
    "        if d + 1 <= 29:\n",
    "            print(d + 1,m,y)\n",
    "        else:\n",
    "            print(d + 1 - 29,m + 1,y)\n",
    "    if m == 12:\n",
    "        if d + 1 <= 31:\n",
    "            print(d + 1,m,y)\n",
    "        else:\n",
    "            print(d + 1 - 31,1,y + 1)\n",
    "else:\n",
    "    if m in t30:\n",
    "        if d + 1 <= 30:\n",
    "            print(d + 1,m,y)\n",
    "        else:\n",
    "            print(d + 1 - 30,m + 1,y)\n",
    "    if m in t31:\n",
    "        if d + 1 <= 31:\n",
    "            print(d + 1,m,y)\n",
    "        else:\n",
    "            print(d + 1 - 31,m + 1,y)\n",
    "    if m == 2:\n",
    "        if d + 1 <= 28:\n",
    "            print(d + 1,m,y)\n",
    "        else:\n",
    "            print(d + 1 - 28,m + 1,y)\n",
    "    if m == 12:\n",
    "        if d + 1 <= 31:\n",
    "            print(d + 1,m,y)\n",
    "        else:\n",
    "            print(d + 1 - 31,1,y + 1)"
   ]
  },
  {
   "cell_type": "code",
   "execution_count": null,
   "metadata": {},
   "outputs": [],
   "source": []
  }
 ],
 "metadata": {
  "kernelspec": {
   "display_name": "Python 3",
   "language": "python",
   "name": "python3"
  },
  "language_info": {
   "codemirror_mode": {
    "name": "ipython",
    "version": 3
   },
   "file_extension": ".py",
   "mimetype": "text/x-python",
   "name": "python",
   "nbconvert_exporter": "python",
   "pygments_lexer": "ipython3",
   "version": "3.7.3"
  }
 },
 "nbformat": 4,
 "nbformat_minor": 2
}
