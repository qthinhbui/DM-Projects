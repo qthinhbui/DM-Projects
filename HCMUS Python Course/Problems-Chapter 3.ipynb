{
 "cells": [
  {
   "cell_type": "markdown",
   "metadata": {
    "collapsed": true
   },
   "source": [
    "# Bài 1\n",
    "\n",
    "Viết chương trình quản lý cho một trạm cân. Chương trình cho phép người dùng nhập vào khối lượng xe (kg) qua trạm cân. Nếu khối lượng xe < 1 tấn = 1000kg, thông báo “PASS” để người dùng được đi qua. Ngược lại thông báo “NOT PASS” để giữ xe lại.\n",
    "\n",
    "[Dữ liệu nhập vào]\n",
    "\n",
    "-\tMột số tự nhiên là khối lượng của xe qua trạm cân.\n",
    "\n",
    "[Dữ liệu xuất ra]\n",
    "\n",
    "-\tMột chuỗi là kết quả của trạm cân ứng với khối lượng của xe.\n",
    "\n",
    "Ví dụ:\n",
    "\n",
    "-\tNhập vào: 999\n",
    "\n",
    "-\tXuất ra: PASS\n",
    "\n",
    "-\tGiải thích: Chương trình được yêu cầu kiểm tra với khối lượng xe là 999 kg. có được qua trạm cân hay không. Khối lượng xe trên bé hơn khối lượng tối đa cho phép của trạm cân nên kết quả kiểm tra là cho qua. Chương trình xuất ra chuỗi thông báo PASS"
   ]
  },
  {
   "cell_type": "code",
   "execution_count": null,
   "metadata": {},
   "outputs": [],
   "source": [
    "weight = int(input())\n",
    "if weight < 1000:\n",
    "    print(\"PASS\")\n",
    "else:\n",
    "    print(\"NOT PASS\")"
   ]
  },
  {
   "cell_type": "markdown",
   "metadata": {},
   "source": [
    "# Bài 2\n",
    "\n",
    "Viết chương trình kiểm tra số x có phải số lẻ hay không.\n",
    "\n",
    "Số x được nhập vào từ bàn phím. In ra màn hình kết quả là Co hay Khong\n",
    "\n",
    "[Dữ liệu nhập vào]\n",
    "\n",
    "-\tMột số nguyên x là số cần được kiểm tra.\n",
    "\n",
    "[Dữ liệu xuất ra]\n",
    "\n",
    "-\tMột chuỗi là kết quả kiểm tra xem số x có phải là số lẻ hay không. Nếu đúng, xuất ra chuỗi “Co”. Ngược lại, xuất ra chuỗi “Khong”.\n",
    "\n",
    "Ví dụ:\n",
    "\n",
    "-\tNhập vào: 11\n",
    "\n",
    "-\tXuất ra: Co"
   ]
  },
  {
   "cell_type": "code",
   "execution_count": null,
   "metadata": {},
   "outputs": [],
   "source": [
    "x = int(input())\n",
    "if x % 2 == 1:\n",
    "    print(\"Co\")\n",
    "else:\n",
    "    print(\"Khong\")"
   ]
  },
  {
   "cell_type": "markdown",
   "metadata": {},
   "source": [
    "# Bài 3\n",
    "\n",
    "Viết chương trình xuất ra màn hình trị tuyệt đối của 1 số nguyên x bằng cách sử dụng Không sử dụng có sẵn trong thư viện.\n",
    "\n",
    "Giá trị số nguyên x được nhập vào từ bàn phím.\n",
    "\n",
    "[Dữ liệu nhập vào]\n",
    "\n",
    "-\tMột số nguyên x là số cần tìm giá trị tuyệt đối.\n",
    "\n",
    "[Dữ liệu xuất ra]\n",
    "\n",
    "-\tMột số tự nhiên là giá trị tuyệt đối tương ứng với số nguyên x.\n",
    "\n",
    "Ví dụ:\n",
    "\n",
    "-\tNhập vào: -11\n",
    "\n",
    "-\tXuất ra: 11\n",
    "\n",
    "-\tGiải thích: Chương trình được yêu cầu tìm giá trị tuyệt đối cho số -11. Như chúng ta biết, |-11| = 11. Chương trình xuất ra màn hình giá trị 11."
   ]
  },
  {
   "cell_type": "code",
   "execution_count": null,
   "metadata": {},
   "outputs": [],
   "source": [
    "x = int(input())\n",
    "if x < 0:\n",
    "    print(-x)\n",
    "else:\n",
    "    print(x)"
   ]
  },
  {
   "cell_type": "markdown",
   "metadata": {},
   "source": [
    "# Bài 4\n",
    "\n",
    "Cho 2 số nguyên x và y.\n",
    "\n",
    "Viết chương trình so sánh bình phương của x và giá trị tuyệt đối của y, xuất ra giá trị lớn nhất (là giá trị x^2 hay là |y|). Không sử dụng có sẵn trong thư viện.\n",
    "\n",
    "x và y được nhập vào từ bàn phím.\n",
    "\n",
    "[Dữ liệu nhập vào]\n",
    "\n",
    "-\tHai dòng, mỗi dòng là một số nguyên lần lượt ứng với x và y\n",
    "\n",
    "[Dữ liệu xuất ra]\n",
    "\n",
    "-\tGiá trị lớn nhất trong hai giá trị x^2 và |y|\n",
    "\n",
    "Ví dụ (Dấu cách trong dữ liệu nhập xuất tương ứng với dấu xuống dòng):\n",
    "\n",
    "-\tNhập vào: 5 -24\n",
    "\n",
    "-\tXuất ra: 25\n",
    "\n",
    "-\tGiải thích: Chương trình được yêu cầu so sánh giá trị 5^2 = 25 và |-24| = 24 . Dễ thấy 25 > 24, chúng ta cần xuất ra giá trị lớn nhất trong hai giá trị này ra màn hình. Chương trình xuất ra màn hình giá trị 25."
   ]
  },
  {
   "cell_type": "code",
   "execution_count": 1,
   "metadata": {},
   "outputs": [
    {
     "name": "stdout",
     "output_type": "stream",
     "text": [
      "5\n",
      "-24\n",
      "25\n"
     ]
    }
   ],
   "source": [
    "x = int(input())\n",
    "y = int(input())\n",
    "\n",
    "def gttd(x):\n",
    "    if x < 0:\n",
    "        return -x\n",
    "    else:\n",
    "        return x\n",
    "\n",
    "if x**2 > gttd (y):\n",
    "    print(x**2)\n",
    "else:\n",
    "    print(gttd (y))"
   ]
  },
  {
   "cell_type": "markdown",
   "metadata": {},
   "source": [
    "# Bài 5\n",
    "\n",
    "Viết chương trình xuất ra chuỗi có chiều dài lớn hơn trong 2 chuỗi a và b. Hai chuỗi ban đầu a và b được nhập vào từ bàn phím.\n",
    "\n",
    "Nếu chiều dài 2 chuỗi bằng nhau thì nối chuỗi b vào cuối chuỗi a và xuất ra màn hình.\n",
    "\n",
    "[Dữ liệu nhập vào]\n",
    "\n",
    "-\tHai dòng liên tiếp, mỗi dòng là một chuỗi ký tự tương ứng với a và b.\n",
    "\n",
    "[Dữ liệu xuất ra]\n",
    "\n",
    "-\tMột chuỗi là kết quả của quá trình xử lý như đề yêu cầu.\n",
    "\n",
    "Ví dụ (Dấu cách trong dữ liệu nhập xuất tương ứng với dấu xuống dòng):\n",
    "\n",
    "-\tNhập vào: xinchao python\n",
    "\n",
    "-\tXuất ra: xinchao\n",
    "\n",
    "-\tGiải thích: Chương trình được yêu cầu xử lý hai chuỗi xinchao và python tương ứng với a và b. Độ dài của chuỗi a là 7. Độ dài của chuỗi b là 6. Vì độ dài của chuỗi a lớn hơn chuỗi b, ta cần xuất chuỗi a ra ngoài màn hình. Chương trình xuất ra màn hình chuỗi xinchao."
   ]
  },
  {
   "cell_type": "code",
   "execution_count": 2,
   "metadata": {},
   "outputs": [
    {
     "name": "stdout",
     "output_type": "stream",
     "text": [
      "thìiasfhias\n",
      "đá\n",
      "thìiasfhias\n"
     ]
    }
   ],
   "source": [
    "a = input()\n",
    "b = input()\n",
    "\n",
    "if len(a) > len(b):\n",
    "    print(a)\n",
    "elif len(a) == len(b):\n",
    "    print(a + b)\n",
    "else:\n",
    "    print(b)"
   ]
  },
  {
   "cell_type": "markdown",
   "metadata": {},
   "source": [
    "# Bài 6\n",
    "\n",
    "Viết chương trình cho người dùng nhập vào một số nguyên từ 1 đến 10, xuất ra chữ số la mã tương ứng với số trên. Nếu người dùng nhập vào một số nhỏ hơn 1 hãy xuất ra chữ số la mã của số 1. Nếu người dùng nhập vào một số lớn hơn 10 hãy xuất ra chữ số la mã của số 10.\n",
    "\n",
    "1 = I,\t6 = VI\n",
    "\n",
    "2 = II\t7 = VII\n",
    "\n",
    "3 = III\t8 = VIII\n",
    "\n",
    "4 = IV\t9 = IX\n",
    "\n",
    "5 = V\t10 = X\n",
    "\n",
    "[Dữ liệu nhập vào]\n",
    "\n",
    "-\tMột số nguyên là số cần xuất ra chữ số la mã tương ứng.\n",
    "\n",
    "[Dữ liệu xuất ra]\n",
    "\n",
    "-\tMột chuỗi là giá trị số la mã tương ứng với số trên\n",
    "\n",
    "Ví dụ:\n",
    "\n",
    "-\tNhập vào: 11\n",
    "\n",
    "-\tXuất ra: X\n",
    "\n",
    "-\tGiải thích: Chương trình được yêu cầu chuyển đổi giá trị từ số 11 sang chữ số la mã. Vì số 11 > 10, nên chúng ta cần trả về chữ số la mã tương ứng của số 10 là X. Chương trình xuất ra màn hình chuỗi X."
   ]
  },
  {
   "cell_type": "code",
   "execution_count": null,
   "metadata": {},
   "outputs": [],
   "source": [
    "so_nhap_vao = int(input())\n",
    "so_la_ma = [\"I\",\"II\",\"III\",\"IV\",\"V\",\"VI\",\"VII\",\"VIII\",\"IX\",\"X\"]\n",
    "if so_nhap_vao < 1:\n",
    "    print(so_la_ma[0])\n",
    "elif so_nhap_vao > 10:\n",
    "    print(so_la_ma[9])\n",
    "else:\n",
    "    print(so_la_ma[so_nhap_vao - 1])"
   ]
  },
  {
   "cell_type": "markdown",
   "metadata": {},
   "source": [
    "# Bài 7\n",
    "\n",
    "Viết chương trình cho phép người dùng lần lượt nhập vào chiều dài và chiều rộng của hai hình chữ nhật. Chương trình sẽ xuất ra -1 nếu diện tích hình thứ nhất lớn hơn diện tích hình thứ hai, xuất ra 1 nếu diện tích hình thứ nhất bé hơn diện tích hình thứ hai, xuất ra 0 nếu diện tích hình thứ nhất bằng diện tích hình thứ hai.\n",
    "\n",
    "[Dữ liệu nhập vào]\n",
    "\n",
    "-\tHai dòng đầu tiên, mỗi dòng gồm 1 số tự nhiên, lần lượt là chiều dài và chiều rộng của hình chữ nhật thứ nhất.\n",
    "\n",
    "-\tHai dòng tiếp theo, mỗi dòng gồm 1 số tự nhiên, lần lượt là chiều dài và chiều rộng của hình chữ nhật thứ hai.\n",
    "\n",
    "[Dữ liệu xuất ra]\n",
    "\n",
    "-\tMột số tự nhiên là kết quả so sánh diện tích hai hình chữ nhật trên. Nếu diện tích hình thứ nhất lớn hơn diện tích hình thứ hai, kết quả là -1. Nếu diện tích hình thứ nhất bằng diện tích hình thứ hai, kết quả là 0. Nếu diện tích hình thứ nhất bé hơn diện tích hình thứ hai, kết quả là 1.\n",
    "\n",
    "Ví dụ (Dấu cách trong dữ liệu nhập xuất tương ứng với dấu xuống dòng):\n",
    "\n",
    "-\tNhập vào: 4 5 5 6\n",
    "\n",
    "-\tXuất ra: 1\n",
    "\n",
    "-\tGiải thích: Hai hình chữ nhật được nhập vào có kích thước tương ứng là 4 x 5 và 5 x 6. Diện tích của hai hình chữ nhật lần lượt là 20 và 30. Ta so sánh diện tích hai hình với nhau thì thấy diện tích hình chữ nhật thứ nhất bé hơn diện tích hình chữ nhật thứ hai nên kết quả cần so sánh tương ứng là 1. Chương trình xuất ra giá trị 1"
   ]
  },
  {
   "cell_type": "code",
   "execution_count": null,
   "metadata": {},
   "outputs": [],
   "source": [
    "chieu_dai_1 = int(input())\n",
    "chieu_rong_1 = int(input())\n",
    "chieu_dai_2 = int(input())\n",
    "chieu_rong_2 = int(input())\n",
    "\n",
    "if (chieu_dai_1 * chieu_rong_1) > (chieu_dai_2 * chieu_rong_2):\n",
    "    print(\"-1\")\n",
    "elif (chieu_dai_1 * chieu_rong_1) == (chieu_dai_2 * chieu_rong_2):\n",
    "    print(\"0\")\n",
    "else:\n",
    "    print(\"1\")"
   ]
  },
  {
   "cell_type": "markdown",
   "metadata": {},
   "source": [
    "# Bài 8\n",
    "\n",
    "Viết chương trình giúp người dùng trộn màu theo nguyên tắc sau: người dùng sẽ nhập vào 2 chuỗi màu trong 3 giá trị cơ bản sau (“red”, “yellow”, “blue”) tương ứng với đỏ, vàng, xanh dương. Chúng ta sẽ xuất ra kết quả của việc trộn hai màu trên lại theo nguyên tắc:\n",
    "\n",
    "Hai màu giống nhau trộn lại ra chính màu đó\n",
    "\n",
    "“red” + “yellow” = “orange” (Cam)\n",
    "\n",
    "“red” + “blue” = “purple” (Tím)\n",
    "\n",
    "“yellow” + “blue” = “green” (Xanh lá)\n",
    "\n",
    "Lưu ý: Nếu người dùng nhập vào một tên màu không hợp lệ, hãy trả về kết quả là “None”\n",
    "\n",
    "[Dữ liệu nhập vào]\n",
    "\n",
    "-\tHai dòng là hai chuỗi ký tự tương ứng với hai màu cần xử lý.\n",
    "\n",
    "[Dữ liệu xuất ra]\n",
    "\n",
    "-\tMột chuỗi kết quả là giá trị của việc trộn hai màu trên theo nguyên tắc được nêu trong bài.\n",
    "\n",
    "Ví dụ (Dấu cách trong dữ liệu nhập xuất tương ứng với dấu xuống dòng):\n",
    "\n",
    "-\tNhập vào: red blue\n",
    "\n",
    "-\tXuất ra: purple\n",
    "\n",
    "-\tGiải thích: Chương trình nhận được yêu cầu trộn hai màu red và blue từ người dùng. Hai màu này được nhập tên chính xác nên theo kết quả được nêu trong nguyên tắc trộn màu trên, kết quả của việc trộn màu sẽ ra được màu purple. Chương trình xuất ra màn hình chuỗi purple."
   ]
  },
  {
   "cell_type": "code",
   "execution_count": 11,
   "metadata": {},
   "outputs": [
    {
     "name": "stdout",
     "output_type": "stream",
     "text": [
      "sa\n",
      "a\n",
      "None\n"
     ]
    }
   ],
   "source": [
    "mau_1 = input()\n",
    "mau_2 = input()\n",
    "\n",
    "mau = [\"red\", \"yellow\", \"blue\"]\n",
    "orange = [\"red\", \"yellow\"]\n",
    "purple = [\"red\", \"blue\"]\n",
    "green = [\"yellow\", \"blue\"]\n",
    "\n",
    "if mau_1 == mau_2:\n",
    "    print(mau_1)\n",
    "elif mau_1 in orange and mau_2 in orange:\n",
    "    print(\"orange\")\n",
    "elif mau_1 in purple and mau_2 in purple:\n",
    "    print(\"purple\")\n",
    "elif mau_1 in green and mau_2 in green:\n",
    "    print(\"green\")\n",
    "else:\n",
    "    print(\"None\")"
   ]
  },
  {
   "cell_type": "markdown",
   "metadata": {},
   "source": [
    "# Bài 9\n",
    "\n",
    "Viết chương trình kiểm tra sức khỏe cho người dùng dựa trên chỉ số BMI. Chương trình cho phép người dùng nhập vào chiều cao (cm) và cân nặng (kg) của mình và dựa vào đó tính ra chỉ số BMI theo công thức:\n",
    "\n",
    "BMI = cân nặng (kg) / (chiều cao (m))2\n",
    "\n",
    "Chỉ số BMI từ 18.5 đến 25 được coi là bình thường, hãy xuất ra thông báo “Normal”\n",
    "\n",
    "Chỉ số BMI dưới 18.5 là người nhẹ cân, hãy xuất ra thông báo “Underweight”\n",
    "\n",
    "Chỉ số BMI trên 25 là người thừa cân, hãy xuất ra thông báo “Overweight”\n",
    "\n",
    "[Dữ liệu nhập vào]\n",
    "\n",
    "-\tDòng đầu tiên là một số tự nhiên tương ứng với chiều cao của người cần kiểm tra sức khỏe.\n",
    "\n",
    "-\tDòng tiếp theo là một số tự nhiên tương ứng với cân nặng của người cần kiểm tra sức khỏe\n",
    "\n",
    "[Dữ liệu xuất ra]\n",
    "\n",
    "-\tMột chuỗi là kết quả kiểm tra sức khỏe của người dùng theo các tiêu chí đánh giá\n",
    "\n",
    "Ví dụ (Dấu cách trong dữ liệu nhập xuất tương ứng với dấu xuống dòng):\n",
    "\n",
    "-\tNhập vào: 155 50\n",
    "\n",
    "-\tXuất ra: Normal\n",
    "\n",
    "-\tGiải thích: Chương trình được yêu cầu kiểm tra sức khỏe của một người có chiều cao là 155 cm và 50 kg. Dựa theo chỉ số được nhập vào, ta tính được BMI của người trên là BMI = 50 / (1.55) 2 = 20.81 (Chú ý chuyển đổi đơn vị m và cm). Chỉ số BMI trên được đánh giá là bình thường. Chương trình xuất ra màn hình chuỗi Normal."
   ]
  },
  {
   "cell_type": "code",
   "execution_count": null,
   "metadata": {},
   "outputs": [],
   "source": [
    "height = int(input())\n",
    "weight = int(input())\n",
    "bmi = weight / ((height/100)**2)\n",
    "\n",
    "if bmi < 18.5:\n",
    "    print(\"Underweight\")\n",
    "if bmi >= 18.5 and bmi <= 25:\n",
    "    print(\"Normal\")\n",
    "if bmi > 25:\n",
    "    print(\"Overweight\")"
   ]
  },
  {
   "cell_type": "markdown",
   "metadata": {},
   "source": [
    "# Bài 10\n",
    "\n",
    "Chương trình nhập 1 ký tự trong bảng chữ cái tiếng anh. Hỏi ký tự đó có phải nguyên âm (o, e, u, i, a) không?\n",
    "\n",
    "Ký tự đó được nhập vào từ bàn phím. In ra màn hình kết quả là Co hay Khong\n",
    "\n",
    "[Dữ liệu nhập vào]\n",
    "\n",
    "-\tMột ký tự trong bảng chữ cái tiếng Anh.\n",
    "\n",
    "[Dữ liệu xuất ra]\n",
    "\n",
    "-\tMột chuỗi là kết quả kiểm tra xem dữ liệu nhập vào có phải là một ký tự nguyên âm hay không. Nếu đúng xuất ra chuỗi “Co”. Ngược lại xuất ra chuỗi “Khong”.\n",
    "\n",
    "Ví dụ:\n",
    "\n",
    "-\tNhập vào: a\n",
    "\n",
    "-\tXuất ra: Co\n",
    "\n",
    "-\tGiải thích: Chương trình được yêu cầu kiểm tra xem ký tự a có phải là ký tự nguyên âm hay không. Như ta thấy ký tự a chính là một ký tự nguyên âm. Chương trình xuất ra màn hình chuỗi Co."
   ]
  },
  {
   "cell_type": "code",
   "execution_count": null,
   "metadata": {},
   "outputs": [],
   "source": [
    "ki_tu = input()\n",
    "\n",
    "if ki_tu in (\"a\",\"o\",\"e\",\"u\",\"i\"):\n",
    "    print(\"Co\")\n",
    "else:\n",
    "    print(\"Khong\")"
   ]
  }
 ],
 "metadata": {
  "kernelspec": {
   "display_name": "Python 3",
   "language": "python",
   "name": "python3"
  },
  "language_info": {
   "codemirror_mode": {
    "name": "ipython",
    "version": 3
   },
   "file_extension": ".py",
   "mimetype": "text/x-python",
   "name": "python",
   "nbconvert_exporter": "python",
   "pygments_lexer": "ipython3",
   "version": "3.7.3"
  }
 },
 "nbformat": 4,
 "nbformat_minor": 2
}
