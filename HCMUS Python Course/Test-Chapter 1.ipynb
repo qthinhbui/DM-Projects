{
  "cells": [
    {
      "metadata": {
        "collapsed": true
      },
      "cell_type": "markdown",
      "source": "# Bài 1 - Độ khó: Cơ bản\n\nMột sân vận động hình tròn có bán kính r.\n\nViết chương trình xuất ra màn hình chu vi của sân vận động đó.\n\nBiết rằng giá trị r là 1 số nguyên được nhập vào từ bàn phím.\n\nSố pi là 1 hằng số lấy từ thư viện math như bên dưới."
    },
    {
      "metadata": {
        "trusted": true
      },
      "cell_type": "code",
      "source": "import math\nr = int(input())\npi = math.pi\n\nprint(2*pi*r)",
      "execution_count": 2,
      "outputs": [
        {
          "output_type": "stream",
          "name": "stdout",
          "text": "30\n188.49555921538757\n"
        }
      ]
    },
    {
      "metadata": {},
      "cell_type": "markdown",
      "source": "# Bài 2 - Độ khó: Cơ bản\n\nChương trình chuyển các ký tự chữ cái trong chuỗi s sang in hoa.\n\nChuỗi s được nhập vào từ bàn phím. In ra màn hình chuỗi s với các ký tự chữ cái trong s đã được chuyển sang dạng in hoa."
    },
    {
      "metadata": {
        "trusted": true
      },
      "cell_type": "code",
      "source": "s = input()\nprint(s.upper())",
      "execution_count": null,
      "outputs": []
    },
    {
      "metadata": {},
      "cell_type": "markdown",
      "source": "# Bài 3 - Độ khó: Cơ bản\n\nViết chương trình Tính chu vi hình chữ nhật cạnh a, b và xuất ra màn hình kết quả chu vi đó với a và b là 2 số tự nhiên được nhập vào từ bàn phím (a > 0 và b > 0)."
    },
    {
      "metadata": {
        "trusted": true
      },
      "cell_type": "code",
      "source": "a = int(input())\nb = int(input())\nprint(2*(a+b))",
      "execution_count": null,
      "outputs": []
    },
    {
      "metadata": {},
      "cell_type": "markdown",
      "source": "# Bài 4 - Độ khó: Nâng cao\n\nHai danh hài Chí Tài Tình và Hoài Linh Tinh đang dự định xây dựng một hồ bơi cho trẻ em nghèo. Hiện họ đã đào một hố đất hình hộp chữ nhật sâu 10(m) với chiều dài là m(m) và chiều rộng là n (m). Họ dự định lát 1 lớp gạch vào mặt bên trong hố, gồm 4 mặt xung quanh hố và đáy hố với những viên gạch hình lập phương với độ dài các chiều là 10(cm). Hỏi họ cần xin các nhà hảo tâm hỗ trợ bao nhiêu viên gạch để hoàn thành việc lát gạch này?\n\nm và n là 2 số tự nhiên dương được nhập vào từ bàn phím như code mẫu.\n\nXuất ra màn hình số viên gạch cần thiết cho việc lát gạch. Kết quả xuất ra dưới dạng số nguyên.\nBiết: 1(m) = 100(cm)"
    },
    {
      "metadata": {
        "trusted": true
      },
      "cell_type": "code",
      "source": "m = int(input())\nn = int(input())\n\nprint(m*10*100*2+(n*10-2)*100*2+(m*10-2)*(n*10-2))",
      "execution_count": null,
      "outputs": []
    },
    {
      "metadata": {
        "trusted": true
      },
      "cell_type": "code",
      "source": "",
      "execution_count": null,
      "outputs": []
    }
  ],
  "metadata": {
    "kernelspec": {
      "name": "python36",
      "display_name": "Python 3.6",
      "language": "python"
    },
    "language_info": {
      "mimetype": "text/x-python",
      "nbconvert_exporter": "python",
      "name": "python",
      "pygments_lexer": "ipython3",
      "version": "3.6.6",
      "file_extension": ".py",
      "codemirror_mode": {
        "version": 3,
        "name": "ipython"
      }
    }
  },
  "nbformat": 4,
  "nbformat_minor": 2
}
