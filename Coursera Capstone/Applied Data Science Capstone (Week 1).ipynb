{
 "cells": [
  {
   "cell_type": "markdown",
   "metadata": {},
   "source": [
    "# The Battle of Neighborhoods for \"Applied Data Science Capstone\" Course"
   ]
  },
  {
   "cell_type": "markdown",
   "metadata": {},
   "source": [
    "## 1. Description"
   ]
  },
  {
   "cell_type": "markdown",
   "metadata": {},
   "source": [
    "This capstone project will be graded by your peers. This capstone project is worth 70% of your total grade. The project will be completed over the course of 2 weeks. Week 1 submissions will be worth 30% whereas week 2 submissions will be worth 40% of your total grade.\n",
    "\n",
    "1. For first week, you will required to submit the following:\n",
    "    - A description of the problem and a discussion of the background. (15 marks)\n",
    "    - A description of the data and how it will be used to solve the problem. (15 marks)\n",
    "\n",
    "\n",
    "2. For the second week, the final deliverables of the project will be:\n",
    "    - A link to your Notebook on your Github repository, showing your code. (15 marks)\n",
    "    - A full report consisting of all of the following components (15 marks):\n",
    "        - Introduction where you discuss the business problem and who would be interested in this project.\n",
    "        - Data where you describe the data that will be used to solve the problem and the source of the data.\n",
    "        - Methodology section which represents the main component of the report where you discuss and describe any exploratory data analysis that you did, any inferential statistical testing that you performed, if any, and what machine learnings were used and why.\n",
    "        - Results section where you discuss the results.\n",
    "        - Discussion section where you discuss any observations you noted and any recommendations you can make based on the results.\n",
    "        - Conclusion section where you conclude the report.\n",
    "     \n",
    "     \n",
    "3. Your choice of a presentation or blogpost. (10 marks)"
   ]
  },
  {
   "cell_type": "markdown",
   "metadata": {},
   "source": [
    "## 2. The first week"
   ]
  },
  {
   "cell_type": "markdown",
   "metadata": {},
   "source": [
    "### The description of the problem and a discussion of the background"
   ]
  },
  {
   "cell_type": "markdown",
   "metadata": {},
   "source": [
    "**The problem**\n",
    "\n",
    "In a hypothetical situation, I play a role as a data scientist to support a fashion retailer to open new stores in busy traffic areas in Paris, France\n",
    "\n",
    "I have been given the interesting task of helping them make data-driven decisions on the new locations that are most suitable for their new stores in Paris. This will be a main element of their decision-making process, the other being on the ground qualitative analysis of districts once when the report for this data is reviewed and studied.\n",
    "\n",
    "This fashion retailer is positioned in the upper end of the fast fashion market. Therefore, they only focus to high traffic areas where consumers go for shopping, restaurants and entertainment. Foursquare data will be very helpful in making data-driven decisions about the best of those areas.\n",
    "\n",
    "The goal of this problem is to identify the best districts to open new stores as part of the company's plan. The results will be translated into management in a simple form that will convey the data-driven analysis of the best locations to open stores."
   ]
  },
  {
   "cell_type": "markdown",
   "metadata": {},
   "source": [
    "**The discussion for the background**\n",
    "\n",
    "Qualitative data from another retailer that they know, suggests that the best locations to open new fashion retail stores may not only be where other clothing is located. This data strongly suggests that the best places are in fact areas that are near French Restaurants, Cafés and Wine Bars. Parisians are very social people that frequent these places often, so opening new stores in these locations are becoming popular.\n",
    "\n",
    "The analysis and recommendations for new store locations will focus on general districts with these establishments, not on specific store addresses. Narrowing down the best district options derived from analysis allows for either further research to be conducted, advising agents of the chosen district, or on the ground searching for specific sites by the company's personnel.\n",
    "\n",
    "Without leveraging data to make decisions about new store locations, the company could spend countless hours walking around districts, consulting many real estate agents with their own district biases, and end up opening in yet another location that is not ideal.\n",
    "\n",
    "The data will provide better answers and better solutions to their task at hand."
   ]
  },
  {
   "cell_type": "markdown",
   "metadata": {},
   "source": [
    "### The description of the data and how it will be used to solve the problem"
   ]
  },
  {
   "cell_type": "markdown",
   "metadata": {},
   "source": [
    "The main districts in Paris are divided into 20 administrative districts, shortened to arrondissements. This data is available on the web and can be manipulated and cleansed to provide a meaningful dataset to use.\n",
    "\n",
    "- Wikipedia page: https://en.wikipedia.org/wiki/Arrondissements_of_Paris\n",
    "\n",
    "- Open|DATA France: https://opendata.paris.fr/explore/dataset/arrondissements/table/?dataChart\n",
    "\n",
    "- Opendatasoft: https://data.opendatasoft.com/explore/dataset/arrondissements%40parisdata/export/\n",
    "\n",
    "\n",
    "The data regarding the districts in Paris need to be researched and a suitable useable source identified. If it is found but is not in a useable form, data wrangling and cleaning will have to be performed.\n",
    "\n",
    "The cleansed data will then be used alongside Foursquare data, which is readily available. Foursquare location data will be leveraged to explore or compare districts around Paris, identifying the high traffic areas where consumers go for shopping, dining and entertainment - the areas where the fashion brand is most interested in opening new stores.\n",
    "\n",
    "- **Outline the initial data that is required:**\n",
    " - District data for Paris including names, location data if available, and any other details required.\n",
    "\n",
    "\n",
    "- **Obtain the Data:**\n",
    " - Research and find suitable sources for the district data for Paris.\n",
    " - Access and explore the data to determine if it can be manipulated for our purposes.\n",
    " \n",
    " \n",
    "- **Initial Data Wrangling and Cleaning:**\n",
    " - Clean the data and convert to a useable form as a dataframe.\n",
    " \n",
    "\n",
    "- **Data Analysis and Location Data:**\n",
    " \n",
    " - Foursquare location data will be leveraged to explore or compare districts around Paris.\n",
    "\n",
    " - Data manipulation and analysis to derive subsets of the initial data.\n",
    " \n",
    " - Identifying the high traffic areas using data visualisation and tatistical nalysis.\n",
    "\n",
    "\n",
    "- **Visualization:**\n",
    "\n",
    " - Analysis and plotting visualizations.\n",
    "\n",
    " - Data visualization using various mapping libraries.\n",
    " \n",
    "\n",
    "- **Discussion and Conclusions:**\n",
    "\n",
    " - Recomendations and results based on the data analysis.\n",
    " \n",
    " - Discussion of any limitations and how the results can be used, and any conclusions that can be drawn."
   ]
  }
 ],
 "metadata": {
  "kernelspec": {
   "display_name": "Python 3",
   "language": "python",
   "name": "python3"
  },
  "language_info": {
   "codemirror_mode": {
    "name": "ipython",
    "version": 3
   },
   "file_extension": ".py",
   "mimetype": "text/x-python",
   "name": "python",
   "nbconvert_exporter": "python",
   "pygments_lexer": "ipython3",
   "version": "3.7.3"
  }
 },
 "nbformat": 4,
 "nbformat_minor": 2
}
